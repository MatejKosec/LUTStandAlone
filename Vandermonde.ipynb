{
 "cells": [
  {
   "cell_type": "code",
   "execution_count": 1,
   "metadata": {
    "collapsed": false
   },
   "outputs": [],
   "source": [
    "import scipy as sp\n",
    "from sympy import *\n",
    "init_printing(use_latex='mathjax')\n",
    "\n"
   ]
  },
  {
   "cell_type": "code",
   "execution_count": 2,
   "metadata": {
    "collapsed": false
   },
   "outputs": [
    {
     "data": {
      "text/latex": [
       "$$\\left[\\begin{matrix}1\\\\x\\\\x^{2}\\\\x^{3}\\end{matrix}\\right]$$"
      ],
      "text/plain": [
       "⎡1 ⎤\n",
       "⎢  ⎥\n",
       "⎢x ⎥\n",
       "⎢  ⎥\n",
       "⎢ 2⎥\n",
       "⎢x ⎥\n",
       "⎢  ⎥\n",
       "⎢ 3⎥\n",
       "⎣x ⎦"
      ]
     },
     "execution_count": 2,
     "metadata": {},
     "output_type": "execute_result"
    }
   ],
   "source": [
    "x,y = symbols(r'x,y')\n",
    "xv = Matrix([1,x,x**2,x**3])\n",
    "xv"
   ]
  },
  {
   "cell_type": "code",
   "execution_count": 3,
   "metadata": {
    "collapsed": false
   },
   "outputs": [
    {
     "data": {
      "text/latex": [
       "$$\\left[\\begin{matrix}1\\\\y\\\\y^{2}\\\\y^{3}\\end{matrix}\\right]$$"
      ],
      "text/plain": [
       "⎡1 ⎤\n",
       "⎢  ⎥\n",
       "⎢y ⎥\n",
       "⎢  ⎥\n",
       "⎢ 2⎥\n",
       "⎢y ⎥\n",
       "⎢  ⎥\n",
       "⎢ 3⎥\n",
       "⎣y ⎦"
      ]
     },
     "execution_count": 3,
     "metadata": {},
     "output_type": "execute_result"
    }
   ],
   "source": [
    "yv = Matrix([1,y,y**2,y**3])\n",
    "yv"
   ]
  },
  {
   "cell_type": "code",
   "execution_count": 4,
   "metadata": {
    "collapsed": false
   },
   "outputs": [
    {
     "data": {
      "text/latex": [
       "$$\\left[\\begin{array}{cccccccccccccccc}1 & x & x^{2} & x^{3} & y & x y & x^{2} y & x^{3} y & y^{2} & x y^{2} & x^{2} y^{2} & x^{3} y^{2} & y^{3} & x y^{3} & x^{2} y^{3} & x^{3} y^{3}\\end{array}\\right]$$"
      ],
      "text/plain": [
       "⎡       2   3           2     3     2     2   2  2   3  2   3     3   2  3   3\n",
       "⎣1  x  x   x   y  x⋅y  x ⋅y  x ⋅y  y   x⋅y   x ⋅y   x ⋅y   y   x⋅y   x ⋅y   x \n",
       "\n",
       "  3⎤\n",
       "⋅y ⎦"
      ]
     },
     "execution_count": 4,
     "metadata": {},
     "output_type": "execute_result"
    }
   ],
   "source": [
    "V = Matrix([[1,x,x**2,x**3,y,x*y,x**2*y,x**3*y,y**2,y**2*x,y**2*x**2,y**2*x**3,y**3,y**3*x,y**3*x**2, y**3*x**3]])\n",
    "             \n",
    "V"
   ]
  },
  {
   "cell_type": "code",
   "execution_count": 7,
   "metadata": {
    "collapsed": false,
    "scrolled": true
   },
   "outputs": [
    {
     "name": "stdout",
     "output_type": "stream",
     "text": [
      "Interpolation_Matrix[i][0] = 1 ;\n",
      "Interpolation_Matrix[i][1] = xp[i] ;\n",
      "Interpolation_Matrix[i][2] = pow(xp[i], 2) ;\n",
      "Interpolation_Matrix[i][3] = pow(xp[i], 3) ;\n",
      "Interpolation_Matrix[i][4] = yp[i] ;\n",
      "Interpolation_Matrix[i][5] = xp[i]*yp[i] ;\n",
      "Interpolation_Matrix[i][6] = pow(xp[i], 2)*yp[i] ;\n",
      "Interpolation_Matrix[i][7] = pow(xp[i], 3)*yp[i] ;\n",
      "Interpolation_Matrix[i][8] = pow(yp[i], 2) ;\n",
      "Interpolation_Matrix[i][9] = xp[i]*pow(yp[i], 2) ;\n",
      "Interpolation_Matrix[i][10] = pow(xp[i], 2)*pow(yp[i], 2) ;\n",
      "Interpolation_Matrix[i][11] = pow(xp[i], 3)*pow(yp[i], 2) ;\n",
      "Interpolation_Matrix[i][12] = pow(yp[i], 3) ;\n",
      "Interpolation_Matrix[i][13] = xp[i]*pow(yp[i], 3) ;\n",
      "Interpolation_Matrix[i][14] = pow(xp[i], 2)*pow(yp[i], 3) ;\n",
      "Interpolation_Matrix[i][15] = pow(xp[i], 3)*pow(yp[i], 3) ;\n"
     ]
    }
   ],
   "source": [
    "for j in range(16):\n",
    "        x,y = symbols('xp[i], yp[i]')\n",
    "        V = Matrix([[1,x,x**2,x**3,y,x*y,x**2*y,x**3*y,y**2,y**2*x,y**2*x**2,y**2*x**3,y**3,y**3*x,y**3*x**2, y**3*x**3]])\n",
    "        print 'Interpolation_Matrix[i][%i] = %s ;'%(j, printing.ccode(V[j]))"
   ]
  },
  {
   "cell_type": "code",
   "execution_count": null,
   "metadata": {
    "collapsed": true
   },
   "outputs": [],
   "source": []
  }
 ],
 "metadata": {
  "kernelspec": {
   "display_name": "Python 2",
   "language": "python",
   "name": "python2"
  },
  "language_info": {
   "codemirror_mode": {
    "name": "ipython",
    "version": 2
   },
   "file_extension": ".py",
   "mimetype": "text/x-python",
   "name": "python",
   "nbconvert_exporter": "python",
   "pygments_lexer": "ipython2",
   "version": "2.7.12"
  }
 },
 "nbformat": 4,
 "nbformat_minor": 0
}
