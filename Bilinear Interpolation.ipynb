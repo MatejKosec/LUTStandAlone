{
 "cells": [
  {
   "cell_type": "markdown",
   "metadata": {},
   "source": [
    "# Symbolic Approach\n"
   ]
  },
  {
   "cell_type": "code",
   "execution_count": 258,
   "metadata": {
    "collapsed": false
   },
   "outputs": [],
   "source": [
    "from sympy import * \n",
    "init_printing(use_latex='mathjax')"
   ]
  },
  {
   "cell_type": "markdown",
   "metadata": {},
   "source": [
    "## Arbitrary quad"
   ]
  },
  {
   "cell_type": "code",
   "execution_count": 292,
   "metadata": {
    "collapsed": false
   },
   "outputs": [],
   "source": [
    "a,b,c,d = symbols(r'a,b,c,d')\n",
    "x00, y00, x10, y10, x01, y01, x11, y11 = symbols(r'x00, y00, x10, y10, x01, y01, x11, y11')\n",
    "f00, f10, f01, f11 = symbols(r'f00, f10, f01, f11')\n"
   ]
  },
  {
   "cell_type": "code",
   "execution_count": 293,
   "metadata": {
    "collapsed": false
   },
   "outputs": [],
   "source": [
    "A = Matrix([[x10, y10, x10*y10],\n",
    "           [x01, y01, x01*y01],\n",
    "           [x11, y11, x11*y11]])\n",
    "B = Matrix([a,b,c])\n",
    "C = Matrix([f10-f00,f01-f00,f11-f00])"
   ]
  },
  {
   "cell_type": "code",
   "execution_count": 294,
   "metadata": {
    "collapsed": false
   },
   "outputs": [
    {
     "data": {
      "text/latex": [
       "$$\\left ( \\left[\\begin{matrix}x_{10} & y_{10} & x_{10} y_{10}\\\\x_{01} & y_{01} & x_{01} y_{01}\\\\x_{11} & y_{11} & x_{11} y_{11}\\end{matrix}\\right], \\quad \\left[\\begin{matrix}a\\\\b\\\\c\\end{matrix}\\right], \\quad \\left[\\begin{matrix}- f_{00} + f_{10}\\\\- f_{00} + f_{01}\\\\- f_{00} + f_{11}\\end{matrix}\\right]\\right )$$"
      ],
      "text/plain": [
       "⎛⎡x₁₀  y₁₀  x₁₀⋅y₁₀⎤, ⎡a⎤, ⎡-f₀₀ + f₁₀⎤⎞\n",
       "⎜⎢                 ⎥  ⎢ ⎥  ⎢          ⎥⎟\n",
       "⎜⎢x₀₁  y₀₁  x₀₁⋅y₀₁⎥  ⎢b⎥  ⎢-f₀₀ + f₀₁⎥⎟\n",
       "⎜⎢                 ⎥  ⎢ ⎥  ⎢          ⎥⎟\n",
       "⎝⎣x₁₁  y₁₁  x₁₁⋅y₁₁⎦  ⎣c⎦  ⎣-f₀₀ + f₁₁⎦⎠"
      ]
     },
     "execution_count": 294,
     "metadata": {},
     "output_type": "execute_result"
    }
   ],
   "source": [
    "\n",
    "A,B,C\n"
   ]
  },
  {
   "cell_type": "markdown",
   "metadata": {},
   "source": [
    "## Single Skewed"
   ]
  },
  {
   "cell_type": "code",
   "execution_count": 295,
   "metadata": {
    "collapsed": false
   },
   "outputs": [],
   "source": [
    "a,b,c,d = symbols(r'a,b,c,d')\n",
    "x0, y00, x1, y10, y01, y11 = symbols(r'x0, y00, x1, y10, y01, y11')\n",
    "f00, f10, f01, f11 = symbols(r'f00, f10, f01, f11')\n",
    "A = Matrix([[x1, y10, x1*y10],\n",
    "           [x0, y01, x0*y01],\n",
    "           [x1, y11, x1*y11]])\n",
    "B = Matrix([a,b,c])\n",
    "C = Matrix([f10-f00,f01-f00,f11-f00])"
   ]
  },
  {
   "cell_type": "code",
   "execution_count": 296,
   "metadata": {
    "collapsed": false
   },
   "outputs": [
    {
     "data": {
      "text/latex": [
       "$$\\left ( \\left[\\begin{matrix}x_{1} & y_{10} & x_{1} y_{10}\\\\x_{0} & y_{01} & x_{0} y_{01}\\\\x_{1} & y_{11} & x_{1} y_{11}\\end{matrix}\\right], \\quad \\left[\\begin{matrix}a\\\\b\\\\c\\end{matrix}\\right], \\quad \\left[\\begin{matrix}- f_{00} + f_{10}\\\\- f_{00} + f_{01}\\\\- f_{00} + f_{11}\\end{matrix}\\right]\\right )$$"
      ],
      "text/plain": [
       "⎛⎡x₁  y₁₀  x₁⋅y₁₀⎤, ⎡a⎤, ⎡-f₀₀ + f₁₀⎤⎞\n",
       "⎜⎢               ⎥  ⎢ ⎥  ⎢          ⎥⎟\n",
       "⎜⎢x₀  y₀₁  x₀⋅y₀₁⎥  ⎢b⎥  ⎢-f₀₀ + f₀₁⎥⎟\n",
       "⎜⎢               ⎥  ⎢ ⎥  ⎢          ⎥⎟\n",
       "⎝⎣x₁  y₁₁  x₁⋅y₁₁⎦  ⎣c⎦  ⎣-f₀₀ + f₁₁⎦⎠"
      ]
     },
     "execution_count": 296,
     "metadata": {},
     "output_type": "execute_result"
    }
   ],
   "source": [
    "A,B,C"
   ]
  },
  {
   "cell_type": "code",
   "execution_count": 297,
   "metadata": {
    "collapsed": false
   },
   "outputs": [
    {
     "data": {
      "text/latex": [
       "$$\\left[\\begin{matrix}- \\frac{y_{11}}{x_{1} \\left(y_{10} - y_{11}\\right)} & 0 & \\frac{y_{10}}{x_{1} \\left(y_{10} - y_{11}\\right)}\\\\\\frac{x_{0} \\left(y_{01} - y_{11}\\right)}{y_{01} \\left(x_{0} y_{10} - x_{0} y_{11} - x_{1} y_{10} + x_{1} y_{11}\\right)} & - \\frac{x_{1}}{y_{01} \\left(x_{0} - x_{1}\\right)} & \\frac{x_{0} \\left(- y_{01} + y_{10}\\right)}{y_{01} \\left(x_{0} y_{10} - x_{0} y_{11} - x_{1} y_{10} + x_{1} y_{11}\\right)}\\\\\\frac{x_{0} y_{11} - x_{1} y_{01}}{x_{1} y_{01} \\left(x_{0} y_{10} - x_{0} y_{11} - x_{1} y_{10} + x_{1} y_{11}\\right)} & \\frac{1}{y_{01} \\left(x_{0} - x_{1}\\right)} & \\frac{- x_{0} y_{10} + x_{1} y_{01}}{x_{1} y_{01} \\left(x_{0} y_{10} - x_{0} y_{11} - x_{1} y_{10} + x_{1} y_{11}\\right)}\\end{matrix}\\right]$$"
      ],
      "text/plain": [
       "⎡                  -y₁₁                                                       \n",
       "⎢              ──────────────                      0                      ────\n",
       "⎢              x₁⋅(y₁₀ - y₁₁)                                             x₁⋅(\n",
       "⎢                                                                             \n",
       "⎢              x₀⋅(y₀₁ - y₁₁)                     -x₁                    x₀⋅(-\n",
       "⎢ ───────────────────────────────────────    ─────────────   ─────────────────\n",
       "⎢ y₀₁⋅(x₀⋅y₁₀ - x₀⋅y₁₁ - x₁⋅y₁₀ + x₁⋅y₁₁)    y₀₁⋅(x₀ - x₁)   y₀₁⋅(x₀⋅y₁₀ - x₀⋅\n",
       "⎢                                                                             \n",
       "⎢             x₀⋅y₁₁ - x₁⋅y₀₁                      1                     -x₀⋅y\n",
       "⎢──────────────────────────────────────────  ─────────────  ──────────────────\n",
       "⎣x₁⋅y₀₁⋅(x₀⋅y₁₀ - x₀⋅y₁₁ - x₁⋅y₁₀ + x₁⋅y₁₁)  y₀₁⋅(x₀ - x₁)  x₁⋅y₀₁⋅(x₀⋅y₁₀ - x\n",
       "\n",
       " y₁₀                    ⎤\n",
       "──────────              ⎥\n",
       "y₁₀ - y₁₁)              ⎥\n",
       "                        ⎥\n",
       "y₀₁ + y₁₀)              ⎥\n",
       "──────────────────────  ⎥\n",
       "y₁₁ - x₁⋅y₁₀ + x₁⋅y₁₁)  ⎥\n",
       "                        ⎥\n",
       "₁₀ + x₁⋅y₀₁             ⎥\n",
       "────────────────────────⎥\n",
       "₀⋅y₁₁ - x₁⋅y₁₀ + x₁⋅y₁₁)⎦"
      ]
     },
     "execution_count": 297,
     "metadata": {},
     "output_type": "execute_result"
    }
   ],
   "source": [
    "simplify(A**-1)"
   ]
  },
  {
   "cell_type": "code",
   "execution_count": 265,
   "metadata": {
    "collapsed": false
   },
   "outputs": [
    {
     "data": {
      "text/latex": [
       "$$\\left[\\begin{matrix}\\frac{1}{x_{1} \\left(y_{10} - y_{11}\\right)} \\left(- f_{00} y_{10} + f_{00} y_{11} - f_{10} y_{11} + f_{11} y_{10}\\right)\\\\\\frac{1}{y_{01} \\left(x_{0} y_{10} - x_{0} y_{11} - x_{1} y_{10} + x_{1} y_{11}\\right)} \\left(- f_{00} x_{0} y_{10} + f_{00} x_{0} y_{11} + f_{00} x_{1} y_{10} - f_{00} x_{1} y_{11} - f_{01} x_{1} y_{10} + f_{01} x_{1} y_{11} + f_{10} x_{0} y_{01} - f_{10} x_{0} y_{11} - f_{11} x_{0} y_{01} + f_{11} x_{0} y_{10}\\right)\\\\\\frac{1}{x_{1} y_{01} \\left(x_{0} y_{10} - x_{0} y_{11} - x_{1} y_{10} + x_{1} y_{11}\\right)} \\left(- x_{1} \\left(f_{00} - f_{01}\\right) \\left(y_{10} - y_{11}\\right) + \\left(f_{00} - f_{10}\\right) \\left(- x_{0} y_{10} + x_{0} \\left(y_{10} - y_{11}\\right) + x_{1} y_{01}\\right) + \\left(f_{00} - f_{11}\\right) \\left(x_{0} y_{10} - x_{1} y_{01}\\right)\\right)\\end{matrix}\\right]$$"
      ],
      "text/plain": [
       "⎡                                             -f₀₀⋅y₁₀ + f₀₀⋅y₁₁ - f₁₀⋅y₁₁ + f\n",
       "⎢                                             ────────────────────────────────\n",
       "⎢                                                         x₁⋅(y₁₀ - y₁₁)      \n",
       "⎢                                                                             \n",
       "⎢-f₀₀⋅x₀⋅y₁₀ + f₀₀⋅x₀⋅y₁₁ + f₀₀⋅x₁⋅y₁₀ - f₀₀⋅x₁⋅y₁₁ - f₀₁⋅x₁⋅y₁₀ + f₀₁⋅x₁⋅y₁₁ \n",
       "⎢─────────────────────────────────────────────────────────────────────────────\n",
       "⎢                                            y₀₁⋅(x₀⋅y₁₀ - x₀⋅y₁₁ - x₁⋅y₁₀ + x\n",
       "⎢                                                                             \n",
       "⎢         -x₁⋅(f₀₀ - f₀₁)⋅(y₁₀ - y₁₁) + (f₀₀ - f₁₀)⋅(-x₀⋅y₁₀ + x₀⋅(y₁₀ - y₁₁) \n",
       "⎢         ────────────────────────────────────────────────────────────────────\n",
       "⎣                                           x₁⋅y₀₁⋅(x₀⋅y₁₀ - x₀⋅y₁₁ - x₁⋅y₁₀ +\n",
       "\n",
       "₁₁⋅y₁₀                                             ⎤\n",
       "──────                                             ⎥\n",
       "                                                   ⎥\n",
       "                                                   ⎥\n",
       "+ f₁₀⋅x₀⋅y₀₁ - f₁₀⋅x₀⋅y₁₁ - f₁₁⋅x₀⋅y₀₁ + f₁₁⋅x₀⋅y₁₀⎥\n",
       "───────────────────────────────────────────────────⎥\n",
       "₁⋅y₁₁)                                             ⎥\n",
       "                                                   ⎥\n",
       "+ x₁⋅y₀₁) + (f₀₀ - f₁₁)⋅(x₀⋅y₁₀ - x₁⋅y₀₁)          ⎥\n",
       "─────────────────────────────────────────          ⎥\n",
       " x₁⋅y₁₁)                                           ⎦"
      ]
     },
     "execution_count": 265,
     "metadata": {},
     "output_type": "execute_result"
    }
   ],
   "source": [
    "S = A**-1*C\n",
    "S = simplify(S)\n",
    "S"
   ]
  },
  {
   "cell_type": "markdown",
   "metadata": {
    "collapsed": false
   },
   "source": [
    "# Numeric Approach"
   ]
  },
  {
   "cell_type": "code",
   "execution_count": 2,
   "metadata": {
    "collapsed": true
   },
   "outputs": [],
   "source": [
    "import scipy as sp\n",
    "from scipy import linalg\n",
    "import matplotlib.pyplot as plt\n",
    "%matplotlib inline"
   ]
  },
  {
   "cell_type": "markdown",
   "metadata": {},
   "source": [
    "## Gaussian Elimination"
   ]
  },
  {
   "cell_type": "markdown",
   "metadata": {},
   "source": [
    "### Vectorized"
   ]
  },
  {
   "cell_type": "code",
   "execution_count": 267,
   "metadata": {
    "collapsed": false
   },
   "outputs": [
    {
     "name": "stdout",
     "output_type": "stream",
     "text": [
      "[[ 0.28402367  0.02366864 -0.05325444]\n",
      " [-0.01775148  0.24852071 -0.0591716 ]\n",
      " [-0.0295858  -0.08579882  0.06804734]] \n",
      "\n",
      "\n",
      "\n",
      "[[  4.           1.           4.        ]\n",
      " [  0.           5.75         5.        ]\n",
      " [  0.           0.          14.69565217]] \n",
      " \n",
      "[[ 1.          0.          0.        ]\n",
      " [-0.25        1.          0.        ]\n",
      " [-0.43478261 -1.26086957  1.        ]] \n",
      " \n",
      "[[  4.           1.           4.        ]\n",
      " [  0.           5.75         5.        ]\n",
      " [  0.           0.          14.69565217]]\n"
     ]
    }
   ],
   "source": [
    "#Lower Echelon\n",
    "A = sp.array([[  4. ,  1. ,  4.],\n",
    " [  1. ,  6. ,  6.],\n",
    " [  3. ,  8. , 24.]])\n",
    "AO = sp.copy(A)\n",
    "print sp.linalg.inv(A),'\\n\\n\\n'\n",
    "I = sp.eye(3)\n",
    "\n",
    "I[1,:] = I[1,:] -I[0,:]*A[1,0]/A[0,0]\n",
    "A[1,:] = A[1,:] -A[0,:]*A[1,0]/A[0,0]\n",
    "I[2,:] = I[2,:] -I[0,:]*A[2,0]/A[0,0]\n",
    "A[2,:] = A[2,:] -A[0,:]*A[2,0]/A[0,0]\n",
    "I[2,:] = I[2,:] -I[1,:]*A[2,1]/A[1,1]\n",
    "A[2,:] = A[2,:] -A[1,:]*A[2,1]/A[1,1]\n",
    "\n",
    "\n",
    "print A,'\\n \\n', I,'\\n \\n', sp.dot(I,AO)"
   ]
  },
  {
   "cell_type": "code",
   "execution_count": 268,
   "metadata": {
    "collapsed": false
   },
   "outputs": [
    {
     "name": "stdout",
     "output_type": "stream",
     "text": [
      "[[  4.           0.           0.        ]\n",
      " [  0.           5.75         0.        ]\n",
      " [  0.           0.          14.69565217]] \n",
      " \n",
      "[[ 0.28402367  0.02366864 -0.05325444]\n",
      " [-0.01775148  0.24852071 -0.0591716 ]\n",
      " [-0.0295858  -0.08579882  0.06804734]] \n",
      " \n",
      "[[  1.00000000e+00   0.00000000e+00   0.00000000e+00]\n",
      " [  0.00000000e+00   1.00000000e+00   0.00000000e+00]\n",
      " [  0.00000000e+00  -1.11022302e-16   1.00000000e+00]]\n"
     ]
    },
    {
     "data": {
      "text/plain": [
       "<matplotlib.image.AxesImage at 0x7f2d8d582a90>"
      ]
     },
     "execution_count": 268,
     "metadata": {},
     "output_type": "execute_result"
    },
    {
     "data": {
      "image/png": "[encoded data removed]",
      "text/plain": [
       "<matplotlib.figure.Figure at 0x7f2d8d5b8790>"
      ]
     },
     "metadata": {},
     "output_type": "display_data"
    }
   ],
   "source": [
    "#Upper Echelon \n",
    "I[1,:] = I[1,:] -I[2,:]*A[1,2]/A[2,2]\n",
    "A[1,2] = A[1,2] -A[2,2]*A[1,2]/A[2,2]\n",
    "I[0,:] = I[0,:] -I[2,:]*A[0,2]/A[2,2]\n",
    "A[0,2] = A[0,2] -A[2,2]*A[0,2]/A[2,2]\n",
    "I[0,:] = I[0,:] -I[1,:]*A[0,1]/A[1,1]\n",
    "A[0,1] = A[0,1] -A[1,1]*A[0,1]/A[1,1]\n",
    "I[0,:] = I[0,:]/A[0,0]\n",
    "I[1,:] = I[1,:]/A[1,1]\n",
    "I[2,:] = I[2,:]/A[2,2]\n",
    "print A,'\\n \\n', I,'\\n \\n',sp.dot(I,AO)\n",
    "plt.imshow(sp.dot(I,AO))"
   ]
  },
  {
   "cell_type": "markdown",
   "metadata": {},
   "source": [
    "### Looped version (skipping zero fields)"
   ]
  },
  {
   "cell_type": "code",
   "execution_count": 157,
   "metadata": {
    "collapsed": false
   },
   "outputs": [
    {
     "name": "stdout",
     "output_type": "stream",
     "text": [
      "[[  5.55550000e+00  -1.61979000e+04  -8.99874000e+04]\n",
      " [  0.00000000e+00   5.28042000e+03   0.00000000e+00]\n",
      " [  5.55550000e+00  -1.13121000e+04  -6.28443000e+04]]\n",
      "[[ -4.16757376e-01   9.80304034e-07   5.96759176e-01]\n",
      " [  0.00000000e+00   1.89378875e-04  -0.00000000e+00]\n",
      " [ -3.68417756e-05  -3.40884906e-05   3.68417756e-05]]\n",
      "---------LOWER ECHELON---------------------\n",
      ": [[ 1.  0.  0.]\n",
      " [ 0.  1.  0.]\n",
      " [-1.  0.  1.]]\n",
      "[[  5.55550000e+00  -1.61979000e+04  -8.99874000e+04]\n",
      " [  0.00000000e+00   5.28042000e+03   0.00000000e+00]\n",
      " [  0.00000000e+00   0.00000000e+00   2.71431000e+04]]\n",
      "[[ 1.          0.          0.        ]\n",
      " [ 0.          1.          0.        ]\n",
      " [-1.         -0.92526731  1.        ]]\n",
      "------------------------------------------\n"
     ]
    },
    {
     "data": {
      "image/png": "[encoded data removed]",
      "text/plain": [
       "<matplotlib.figure.Figure at 0x7fdb519b3910>"
      ]
     },
     "metadata": {},
     "output_type": "display_data"
    }
   ],
   "source": [
    "dx10 = 4\n",
    "dx01 = 0\n",
    "dx11 = 4\n",
    "dy10 = 0\n",
    "dy01 = 6\n",
    "dy11 = 6\n",
    "f00  = 10\n",
    "f10  = 12\n",
    "f11  = -2\n",
    "f01  = -1\n",
    "plt.plot([0,dx10,dx11,dx01,0],[0,dy10,dy11,dy01,0])\n",
    "A= sp.zeros((3,3))\n",
    "\n",
    "I= sp.zeros((3,3))\n",
    "A[0][0] = dx10 \n",
    "A[0][1] = dy10\n",
    "A[0][2] = dx10*dy10\n",
    "A[1][0] = dx01\n",
    "A[1][1] = dy01\n",
    "A[1][2] = dx01*dy01\n",
    "A[2][0] = dx11\n",
    "A[2][1] = dy11\n",
    "A[2][2] = dx11*dy11\n",
    "I[0][0] = 1\n",
    "I[1][1] = 1\n",
    "I[2][2] = 1\n",
    "A = sp.array([[  5.55550000e+00,  -1.61979000e+04,  -8.99874000e+04],\n",
    "       [  0.00000000e+00,   5.28042000e+03,   0.00000000e+00],\n",
    "       [  5.55550000e+00,  -1.13121000e+04,  -6.28443000e+04]])\n",
    "print A\n",
    "\n",
    "print sp.linalg.inv(A)\n",
    "AO = sp.copy(A)\n",
    "print '---------LOWER ECHELON---------------------'\n",
    "\n",
    "if A[0][0] != 0:\n",
    "    c = A[1,0]/A[0,0]\n",
    "    I[1,0] = I[1,0] -I[0,0]*c\n",
    "    for i in range(3):\n",
    "        A[1,i] = A[1,i] -A[0,i]*c\n",
    "    \n",
    "    c =A[2,0]/A[0,0]\n",
    "    I[2,0] = I[2,0] -I[0,0]*c\n",
    "    for i in range(3):\n",
    "        A[2,i] = A[2,i] -A[0,i]*c\n",
    "print ':', I\n",
    "if A[1][1] != 0:\n",
    "    c = A[2][1]/A[1][1]\n",
    "    for i in range(2):\n",
    "        I[2][i] = I[2][i] -I[1][i]*c\n",
    "    for i in range(3):\n",
    "        A[2][i] = A[2][i] -A[1][i]*c\n",
    "print A\n",
    "print I\n",
    "print '------------------------------------------'\n"
   ]
  },
  {
   "cell_type": "code",
   "execution_count": 156,
   "metadata": {
    "collapsed": false
   },
   "outputs": [
    {
     "name": "stdout",
     "output_type": "stream",
     "text": [
      "---------UPPER ECHELON---------------------\n",
      "-------------------------------------------\n",
      "[[  5.55550000e+00   0.00000000e+00   0.00000000e+00]\n",
      " [  0.00000000e+00   5.28042000e+03   0.00000000e+00]\n",
      " [  0.00000000e+00   0.00000000e+00   2.71431000e+04]] \n",
      " \n",
      "[[ -4.16757376e-01   9.80304034e-07   5.96759176e-01]\n",
      " [  0.00000000e+00   1.89378875e-04   0.00000000e+00]\n",
      " [ -3.68417756e-05  -3.40884906e-05   3.68417756e-05]] \n",
      " \n",
      "[[ -4.16757376e-01   9.80304036e-07   5.96759176e-01]\n",
      " [  1.35525272e-20   1.89378875e-04  -6.77626358e-21]\n",
      " [ -3.68417756e-05  -3.40884906e-05   3.68417756e-05]] \n",
      " \n",
      "[[  1.00000000e+00   9.09494702e-13   0.00000000e+00]\n",
      " [  0.00000000e+00   1.00000000e+00   0.00000000e+00]\n",
      " [  0.00000000e+00   0.00000000e+00   1.00000000e+00]]\n"
     ]
    },
    {
     "data": {
      "text/plain": [
       "<matplotlib.image.AxesImage at 0x7fdb50a018d0>"
      ]
     },
     "execution_count": 156,
     "metadata": {},
     "output_type": "execute_result"
    },
    {
     "data": {
      "image/png": "[encoded data removed]",
      "text/plain": [
       "<matplotlib.figure.Figure at 0x7fdb50bd2b90>"
      ]
     },
     "metadata": {},
     "output_type": "display_data"
    }
   ],
   "source": [
    "print '---------UPPER ECHELON---------------------'\n",
    "#Upper Echelon \n",
    "if A[2,2] != 0:\n",
    "    \n",
    "    for i in range(3):\n",
    "        I[1,i] = I[1,i] -I[2,i]*A[1,2]/A[2,2]\n",
    "    A[1,2] = 0\n",
    "    for i in range(3):\n",
    "        I[0,i] = I[0,i] -I[2,i]*A[0,2]/A[2,2]\n",
    "    A[0,2] = 0\n",
    "    \n",
    "if A[1,1] != 0:\n",
    "    for i in range(3):\n",
    "        I[0,i] = I[0,i] -I[1,i]*A[0,1]/A[1,1]\n",
    "\n",
    "    A[0,1] = 0\n",
    "    \n",
    "\n",
    "if A[0,0] != 0:\n",
    "    for i in range(3):\n",
    "        I[0,i] = I[0,i]/A[0,0]\n",
    "if A[1,1] != 0:\n",
    "    for i in range(3):\n",
    "        I[1,i] = I[1,i]/A[1,1]\n",
    "if A[2,2] != 0:    \n",
    "    for i in range(3):\n",
    "        I[2,i] = I[2,i]/A[2,2]\n",
    "print '-------------------------------------------'\n",
    "print A,'\\n \\n', I,'\\n \\n',sp.linalg.pinv(AO),'\\n \\n',sp.dot(I,AO)\n",
    "plt.imshow(sp.dot(I,AO))"
   ]
  },
  {
   "cell_type": "markdown",
   "metadata": {},
   "source": [
    "# Reconstruction with a,b,c,d coefficients"
   ]
  },
  {
   "cell_type": "code",
   "execution_count": 275,
   "metadata": {
    "collapsed": false
   },
   "outputs": [
    {
     "name": "stdout",
     "output_type": "stream",
     "text": [
      "[[  2.]\n",
      " [-11.]\n",
      " [-12.]] \n",
      "\n",
      "[[ 0.94674556]\n",
      " [-2.0591716 ]\n",
      " [ 0.06804734]]\n"
     ]
    }
   ],
   "source": [
    "Inverse = sp.copy(I)\n",
    "coeff = sp.zeros((4,1))\n",
    "F = sp.zeros((3,1))\n",
    "F[0] = f10 - f00\n",
    "F[1] = f01 - f00\n",
    "F[2] = f11 - f00\n",
    "\n",
    "coeff = sp.dot(I,F)\n",
    "print F, '\\n'\n",
    "print coeff"
   ]
  },
  {
   "cell_type": "code",
   "execution_count": 125,
   "metadata": {
    "collapsed": false
   },
   "outputs": [
    {
     "ename": "NameError",
     "evalue": "name 'coeff' is not defined",
     "output_type": "error",
     "traceback": [
      "\u001b[1;31m---------------------------------------------------------------------------\u001b[0m",
      "\u001b[1;31mNameError\u001b[0m                                 Traceback (most recent call last)",
      "\u001b[1;32m<ipython-input-125-13ded16f344c>\u001b[0m in \u001b[0;36m<module>\u001b[1;34m()\u001b[0m\n\u001b[0;32m      2\u001b[0m \u001b[0my\u001b[0m \u001b[1;33m=\u001b[0m \u001b[0msp\u001b[0m\u001b[1;33m.\u001b[0m\u001b[0mlinspace\u001b[0m\u001b[1;33m(\u001b[0m\u001b[1;36m0\u001b[0m\u001b[1;33m,\u001b[0m\u001b[0mdy11\u001b[0m\u001b[1;33m,\u001b[0m\u001b[1;36m100\u001b[0m\u001b[1;33m)\u001b[0m\u001b[1;33m\u001b[0m\u001b[0m\n\u001b[0;32m      3\u001b[0m \u001b[0mx\u001b[0m\u001b[1;33m,\u001b[0m\u001b[0my\u001b[0m \u001b[1;33m=\u001b[0m \u001b[0msp\u001b[0m\u001b[1;33m.\u001b[0m\u001b[0mmeshgrid\u001b[0m\u001b[1;33m(\u001b[0m\u001b[0mx\u001b[0m\u001b[1;33m,\u001b[0m\u001b[0my\u001b[0m\u001b[1;33m)\u001b[0m\u001b[1;33m\u001b[0m\u001b[0m\n\u001b[1;32m----> 4\u001b[1;33m \u001b[0mfunc\u001b[0m \u001b[1;33m=\u001b[0m \u001b[0mx\u001b[0m\u001b[1;33m*\u001b[0m\u001b[0mcoeff\u001b[0m\u001b[1;33m[\u001b[0m\u001b[1;36m0\u001b[0m\u001b[1;33m]\u001b[0m \u001b[1;33m+\u001b[0m \u001b[0my\u001b[0m\u001b[1;33m*\u001b[0m\u001b[0mcoeff\u001b[0m\u001b[1;33m[\u001b[0m\u001b[1;36m1\u001b[0m\u001b[1;33m]\u001b[0m \u001b[1;33m+\u001b[0m \u001b[0mx\u001b[0m\u001b[1;33m*\u001b[0m\u001b[0my\u001b[0m\u001b[1;33m*\u001b[0m\u001b[0mcoeff\u001b[0m\u001b[1;33m[\u001b[0m\u001b[1;36m2\u001b[0m\u001b[1;33m]\u001b[0m \u001b[1;33m+\u001b[0m \u001b[0mf00\u001b[0m\u001b[1;33m\u001b[0m\u001b[0m\n\u001b[0m",
      "\u001b[1;31mNameError\u001b[0m: name 'coeff' is not defined"
     ]
    }
   ],
   "source": [
    "x = sp.linspace(0,dx11,100)\n",
    "y = sp.linspace(0,dy11,100)\n",
    "x,y = sp.meshgrid(x,y)\n",
    "func = x*coeff[0] + y*coeff[1] + x*y*coeff[2] + f00"
   ]
  },
  {
   "cell_type": "code",
   "execution_count": 124,
   "metadata": {
    "collapsed": false
   },
   "outputs": [
    {
     "ename": "NameError",
     "evalue": "name 'func' is not defined",
     "output_type": "error",
     "traceback": [
      "\u001b[1;31m---------------------------------------------------------------------------\u001b[0m",
      "\u001b[1;31mNameError\u001b[0m                                 Traceback (most recent call last)",
      "\u001b[1;32m<ipython-input-124-29053844c514>\u001b[0m in \u001b[0;36m<module>\u001b[1;34m()\u001b[0m\n\u001b[0;32m      3\u001b[0m \u001b[0mfig\u001b[0m \u001b[1;33m=\u001b[0m \u001b[0mplt\u001b[0m\u001b[1;33m.\u001b[0m\u001b[0mfigure\u001b[0m\u001b[1;33m(\u001b[0m\u001b[1;33m)\u001b[0m\u001b[1;33m\u001b[0m\u001b[0m\n\u001b[0;32m      4\u001b[0m \u001b[0max\u001b[0m \u001b[1;33m=\u001b[0m \u001b[0mfig\u001b[0m\u001b[1;33m.\u001b[0m\u001b[0mgca\u001b[0m\u001b[1;33m(\u001b[0m\u001b[0mprojection\u001b[0m\u001b[1;33m=\u001b[0m\u001b[1;34m'3d'\u001b[0m\u001b[1;33m)\u001b[0m\u001b[1;33m\u001b[0m\u001b[0m\n\u001b[1;32m----> 5\u001b[1;33m \u001b[0msurf\u001b[0m \u001b[1;33m=\u001b[0m \u001b[0max\u001b[0m\u001b[1;33m.\u001b[0m\u001b[0mplot_surface\u001b[0m\u001b[1;33m(\u001b[0m\u001b[0mx\u001b[0m\u001b[1;33m,\u001b[0m \u001b[0my\u001b[0m\u001b[1;33m,\u001b[0m \u001b[0mfunc\u001b[0m\u001b[1;33m,\u001b[0m \u001b[0mrstride\u001b[0m\u001b[1;33m=\u001b[0m\u001b[1;36m1\u001b[0m\u001b[1;33m,\u001b[0m \u001b[0mcstride\u001b[0m\u001b[1;33m=\u001b[0m\u001b[1;36m1\u001b[0m\u001b[1;33m)\u001b[0m\u001b[1;33m\u001b[0m\u001b[0m\n\u001b[0m\u001b[0;32m      6\u001b[0m \u001b[0mplt\u001b[0m\u001b[1;33m.\u001b[0m\u001b[0mshow\u001b[0m\u001b[1;33m(\u001b[0m\u001b[1;33m)\u001b[0m\u001b[1;33m\u001b[0m\u001b[0m\n",
      "\u001b[1;31mNameError\u001b[0m: name 'func' is not defined"
     ]
    },
    {
     "data": {
      "image/png": "[encoded data removed]",
      "text/plain": [
       "<matplotlib.figure.Figure at 0x7fdb5263a990>"
      ]
     },
     "metadata": {},
     "output_type": "display_data"
    }
   ],
   "source": [
    "from mpl_toolkits.mplot3d import Axes3D\n",
    "from matplotlib import cm\n",
    "fig = plt.figure()\n",
    "ax = fig.gca(projection='3d')\n",
    "surf = ax.plot_surface(x, y, func, rstride=1, cstride=1)\n",
    "plt.show()\n"
   ]
  },
  {
   "cell_type": "markdown",
   "metadata": {
    "collapsed": true
   },
   "source": [
    "# Checking element boundaries"
   ]
  },
  {
   "cell_type": "code",
   "execution_count": 122,
   "metadata": {
    "collapsed": false
   },
   "outputs": [
    {
     "name": "stdout",
     "output_type": "stream",
     "text": [
      "(array([0]),)\n",
      "(array([], dtype=int64),)\n",
      "(array([], dtype=int64),)\n",
      "(array([], dtype=int64),)\n"
     ]
    },
    {
     "data": {
      "text/plain": [
       "[<matplotlib.lines.Line2D at 0x7fdb524baf10>]"
      ]
     },
     "execution_count": 122,
     "metadata": {},
     "output_type": "execute_result"
    },
    {
     "data": {
      "image/png": "[encoded data removed]",
      "text/plain": [
       "<matplotlib.figure.Figure at 0x7fdb525a3850>"
      ]
     },
     "metadata": {},
     "output_type": "display_data"
    }
   ],
   "source": [
    "x00 = 88.8889\n",
    "y00 = 547384\n",
    "x01 = 88.8889\n",
    "y01 = 552664\n",
    "x10 = 94.4444\n",
    "y10 = 531186\n",
    "x11 = 94.4444\n",
    "y11 = 536072\n",
    "dx10 = x10 -x00\n",
    "dx01 = x01 -x00\n",
    "dx11 = x11 -x00\n",
    "dy10 = y10 -y00\n",
    "dy01 = y01 -y00\n",
    "dy11 = y11 -y00\n",
    "plt.figure(1)\n",
    "plt.plot([x00,x01,x11,x10,x00],[y00,y01,y11,y10,y00])\n",
    "x = sp.array([90]) -x00\n",
    "y = sp.array([535000]) - y00\n",
    "#x = sp.array([2,2.5,5.0,2.5,2.5,5.0])-x00\n",
    "#y = sp.array([55,55,55,67,42,31])-y00\n",
    "plt.plot(x+x00,y+y00,'k.',lw='2')\n",
    "#check BOTTOM\n",
    "indi = sp.where(y*dx10<dy10*x)\n",
    "print indi\n",
    "plt.plot(x[indi]+x00, y[indi]+y00,'g*')\n",
    "#check LEFT\n",
    "indi = sp.where(x*dy01<dx01*y)\n",
    "print indi\n",
    "plt.plot(x[indi]+x00, y[indi]+y00,'c')\n",
    "#check RIGHT\n",
    "indi = sp.where((x-dx10)*(dy11-dy10)>(dx11-dx10)*(y-dy10))\n",
    "print indi\n",
    "plt.plot(x[indi]+x00, y[indi]+y00,'r+')\n",
    "#check TOP\n",
    "indi = sp.where((y-dy01)*(dx11-dx01)>(dy11-dy01)*(x-dx01))\n",
    "print indi\n",
    "plt.plot(x[indi]+x00, y[indi]+y00,'ro')\n"
   ]
  },
  {
   "cell_type": "code",
   "execution_count": 126,
   "metadata": {
    "collapsed": false
   },
   "outputs": [
    {
     "name": "stdout",
     "output_type": "stream",
     "text": [
      "(array([], dtype=int64),)\n",
      "(array([], dtype=int64),)\n",
      "(array([], dtype=int64),)\n",
      "(array([], dtype=int64),)\n"
     ]
    },
    {
     "data": {
      "text/plain": [
       "[<matplotlib.lines.Line2D at 0x7fdb52213150>]"
      ]
     },
     "execution_count": 126,
     "metadata": {},
     "output_type": "execute_result"
    },
    {
     "data": {
      "image/png": "[encoded data removed]",
      "text/plain": [
       "<matplotlib.figure.Figure at 0x7fdb5227b050>"
      ]
     },
     "metadata": {},
     "output_type": "display_data"
    }
   ],
   "source": [
    "x00 = 77.7778\n",
    "y00 = 5.31579e+06\n",
    "x01 = 77.7778\n",
    "y01 = 5.42105e+06\n",
    "x10 = 83.3333\n",
    "y10 = 5.31579e+06\n",
    "x11 = 83.3333\n",
    "y11 = 5.42105e+06\n",
    "dx10 = x10 -x00\n",
    "dx01 = x01 -x00\n",
    "dx11 = x11 -x00\n",
    "dy10 = y10 -y00\n",
    "dy01 = y01 -y00\n",
    "dy11 = y11 -y00\n",
    "plt.figure(1)\n",
    "plt.plot([x00,x01,x11,x10,x00],[y00,y01,y11,y10,y00])\n",
    "x = sp.array([80]) -x00\n",
    "y = sp.array([5.42105e6]) - y00\n",
    "#x = sp.array([2,2.5,5.0,2.5,2.5,5.0])-x00\n",
    "#y = sp.array([55,55,55,67,42,31])-y00\n",
    "plt.plot(x+x00,y+y00,'k.',lw='2')\n",
    "#check BOTTOM\n",
    "indi = sp.where(y*dx10<dy10*x)\n",
    "print indi\n",
    "plt.plot(x[indi]+x00, y[indi]+y00,'g*')\n",
    "#check LEFT\n",
    "indi = sp.where(x*dy01<dx01*y)\n",
    "print indi\n",
    "plt.plot(x[indi]+x00, y[indi]+y00,'co')\n",
    "#check RIGHT\n",
    "indi = sp.where((x-dx10)*(dy11-dy10)>(dx11-dx10)*(y-dy10))\n",
    "print indi\n",
    "plt.plot(x[indi]+x00, y[indi]+y00,'r+')\n",
    "#check TOP\n",
    "indi = sp.where((y-dy01)*(dx11-dx01)>(dy11-dy01)*(x-dx01))\n",
    "print indi\n",
    "plt.plot(x[indi]+x00, y[indi]+y00,'ro')\n"
   ]
  },
  {
   "cell_type": "code",
   "execution_count": 165,
   "metadata": {
    "collapsed": false
   },
   "outputs": [
    {
     "name": "stdout",
     "output_type": "stream",
     "text": [
      "(array([], dtype=int64),)\n",
      "(array([], dtype=int64),)\n",
      "(array([], dtype=int64),)\n",
      "(array([], dtype=int64),)\n"
     ]
    },
    {
     "data": {
      "text/plain": [
       "[<matplotlib.lines.Line2D at 0x7fdb50754090>]"
      ]
     },
     "execution_count": 165,
     "metadata": {},
     "output_type": "execute_result"
    },
    {
     "data": {
      "image/png": "[encoded data removed]",
      "text/plain": [
       "<matplotlib.figure.Figure at 0x7fdb50884650>"
      ]
     },
     "metadata": {},
     "output_type": "display_data"
    }
   ],
   "source": [
    "x00 = 5.31579e+06\n",
    "y00 = 299.344\n",
    "x10 = 5.31579e+06\n",
    "y10 = 248.675\n",
    "x01 = 5.42105e+06\n",
    "y01 = 309.656\n",
    "x11 = 5.42105e+06\n",
    "y11 = 257.832\n",
    "dx10 = x10 -x00\n",
    "dx01 = x01 -x00\n",
    "dx11 = x11 -x00\n",
    "dy10 = y10 -y00\n",
    "dy01 = y01 -y00\n",
    "dy11 = y11 -y00\n",
    "plt.figure(1)\n",
    "plt.plot([x00,x01],[y00,y01], 'g--')\n",
    "plt.plot([x01,x11],[y01,y11], 'r--')\n",
    "plt.plot([x11,x10,x00],[y11,y10,y00])\n",
    "x = sp.array([5420052]) -x00\n",
    "y = sp.array([260]) - y00\n",
    "#x = sp.array([2,2.5,5.0,2.5,2.5,5.0])-x00\n",
    "#y = sp.array([55,55,55,67,42,31])-y00\n",
    "plt.plot(x+x00,y+y00,'k.',lw='2')\n",
    "#check BOTTOM\n",
    "indi = sp.where(y*dx10<dy10*x)\n",
    "print indi\n",
    "plt.plot(x[indi]+x00, y[indi]+y00,'g*')\n",
    "#check LEFT\n",
    "indi = sp.where(x*dy01<dx01*y)\n",
    "print indi\n",
    "plt.plot(x[indi]+x00, y[indi]+y00,'co')\n",
    "#check RIGHT\n",
    "indi = sp.where((x-dx10)*(dy11-dy10)>(dx11-dx10)*(y-dy10))\n",
    "print indi\n",
    "plt.plot(x[indi]+x00, y[indi]+y00,'r+')\n",
    "#check TOP\n",
    "indi = sp.where((y-dy01)*(dx11-dx01)>(dy11-dy01)*(x-dx01))\n",
    "print indi\n",
    "plt.plot(x[indi]+x00, y[indi]+y00,'ro')\n",
    "\n",
    "\n"
   ]
  },
  {
   "cell_type": "code",
   "execution_count": 162,
   "metadata": {
    "collapsed": false
   },
   "outputs": [
    {
     "data": {
      "text/plain": [
       "10.312000000000012"
      ]
     },
     "execution_count": 162,
     "metadata": {},
     "output_type": "execute_result"
    }
   ],
   "source": [
    "dy01"
   ]
  }
 ],
 "metadata": {
  "kernelspec": {
   "display_name": "Python 2",
   "language": "python",
   "name": "python2"
  },
  "language_info": {
   "codemirror_mode": {
    "name": "ipython",
    "version": 2
   },
   "file_extension": ".py",
   "mimetype": "text/x-python",
   "name": "python",
   "nbconvert_exporter": "python",
   "pygments_lexer": "ipython2",
   "version": "2.7.11+"
  }
 },
 "nbformat": 4,
 "nbformat_minor": 0
}
