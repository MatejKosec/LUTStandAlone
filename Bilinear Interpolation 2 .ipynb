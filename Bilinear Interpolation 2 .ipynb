{
 "cells": [
  {
   "cell_type": "markdown",
   "metadata": {},
   "source": [
    "# Symbolic Approach\n"
   ]
  },
  {
   "cell_type": "code",
   "execution_count": 1,
   "metadata": {
    "collapsed": false
   },
   "outputs": [],
   "source": [
    "from sympy import * \n",
    "import matplotlib.pyplot as plt\n",
    "import scipy as sp\n",
    "from scipy import linalg\n",
    "init_printing(use_latex='mathjax')\n",
    "%matplotlib inline"
   ]
  },
  {
   "cell_type": "markdown",
   "metadata": {},
   "source": [
    "## Vandermonde normalized special"
   ]
  },
  {
   "cell_type": "code",
   "execution_count": 9,
   "metadata": {
    "collapsed": false
   },
   "outputs": [],
   "source": [
    "a,b,c,d = symbols(r'a,b,c,d')\n",
    "x,y,x00, y00, x10, y10, x01, y01, x11, y11 = symbols(r'x,y,x_{i\\text{\\,}j}, y_{i\\text{\\,}j}, x_{i+1\\text{\\,}j},\\\n",
    "y_{i+1\\text{\\,}j}, x_{i\\text{\\,}j+1}, y_{i\\text{\\,}j+1}, x_{i+1\\text{\\,}j+1}, y_{i+1\\text{\\,}j+1}')"
   ]
  },
  {
   "cell_type": "code",
   "execution_count": 19,
   "metadata": {
    "collapsed": false
   },
   "outputs": [
    {
     "data": {
      "text/latex": [
       "$$\\left[\\begin{matrix}1 & x_{i\\text{,}j} & y_{i\\text{,}j} & x_{i\\text{,}j} y_{i\\text{,}j}\\\\1 & x_{i+1\\text{,}j} & y_{i+1\\text{,}j} & x_{i+1\\text{,}j} y_{i+1\\text{,}j}\\\\1 & x_{i\\text{,}j+1} & y_{i\\text{,}j+1} & x_{i\\text{,}j+1} y_{i\\text{,}j+1}\\\\1 & x_{i+1\\text{,}j+1} & y_{i+1\\text{,}j+1} & x_{i+1\\text{,}j+1} y_{i+1\\text{,}j+1}\\end{matrix}\\right]$$"
      ],
      "text/plain": [
       "⎡1    x_{i\\text{,}j}      y_{i\\text{,}j}        x_{i\\text{,}j}⋅y_{i\\text{,}j} \n",
       "⎢                                                                             \n",
       "⎢1   x_{i+1\\text{,}j}    y_{i+1\\text{,}j}     x_{i+1\\text{,}j}⋅y_{i+1\\text{,}j\n",
       "⎢                                                                             \n",
       "⎢1   x_{i\\text{,}j+1}    y_{i\\text{,}j+1}     x_{i\\text{,}j+1}⋅y_{i\\text{,}j+1\n",
       "⎢                                                                             \n",
       "⎣1  x_{i+1\\text{,}j+1}  y_{i+1\\text{,}j+1}  x_{i+1\\text{,}j+1}⋅y_{i+1\\text{,}j\n",
       "\n",
       "   ⎤\n",
       "   ⎥\n",
       "}  ⎥\n",
       "   ⎥\n",
       "}  ⎥\n",
       "   ⎥\n",
       "+1}⎦"
      ]
     },
     "execution_count": 19,
     "metadata": {},
     "output_type": "execute_result"
    }
   ],
   "source": [
    "Vandermonde = Matrix([[1, x00,y00,x00*y00],\n",
    "                      [1, x10,y10,x10*y10],\n",
    "                      [1, x01,y01,x01*y01],\n",
    "                      [1, x11,y11,x11*y11]])           \n",
    "Vandermonde"
   ]
  },
  {
   "cell_type": "code",
   "execution_count": 13,
   "metadata": {
    "collapsed": false
   },
   "outputs": [
    {
     "name": "stdout",
     "output_type": "stream",
     "text": [
      "\\left[\\begin{matrix}1 & x_{i\\text{,}j} & y_{i\\text{,}j} & x_{i\\text{,}j} y_{i\\text{,}j}\\\\1 & x_{i+1\\text{,}j} & y_{i+1\\text{,}j} & x_{i+1\\text{,}j} y_{i+1\\text{,}j}\\\\1 & x_{i\\text{,}j+1} & y_{i\\text{,}j+1} & x_{i\\text{,}j+1} y_{i\\text{,}j+1}\\\\1 & x_{i+1\\text{,}j+1} & y_{i+1\\text{,}j+1} & x_{i+1\\text{,}j+1} y_{i+1\\text{,}j+1}\\end{matrix}\\right]\n"
     ]
    }
   ],
   "source": [
    "print latex(Vandermonde)"
   ]
  },
  {
   "cell_type": "code",
   "execution_count": null,
   "metadata": {
    "collapsed": true
   },
   "outputs": [],
   "source": []
  },
  {
   "cell_type": "code",
   "execution_count": 5,
   "metadata": {
    "collapsed": true
   },
   "outputs": [],
   "source": [
    "a,b,c,d = symbols(r'a,b,c,d')\n",
    "x,y,dx00, dy00, dx10, dy10, dx01, dy01, dx11, dy11 = symbols(r'x,y,dx00, dy00, dx10, dy10, dx01, dy01, dx11, dy11')\n",
    "\n",
    "f00, f10, f01, f11 = symbols(r'f00, f10, f01, f11')\n",
    "\n",
    "Vandermonde = Matrix([[1, 0,0,0],\n",
    "           [1, 1, (dy10-dy00)/(dy01-dy00), (dy10-dy00)/(dy01-dy00)],\n",
    "           [1, (dx01-dx00)/(dx10-dx00),1 ,(dx01-dx00)/(dx10-dx00)],\n",
    "           [1,(dx11-dx00)/(dx10-dx00), (dy11-dy00)/(dy01-dy00), (dy11-dy00)/(dy01-dy00)*(dx11-dx00)/(dx10-dx00)]])\n",
    "\n"
   ]
  },
  {
   "cell_type": "code",
   "execution_count": 4,
   "metadata": {
    "collapsed": false
   },
   "outputs": [
    {
     "data": {
      "text/latex": [
       "$$\\left[\\begin{matrix}1 & 0 & 0 & 0\\\\1 & 1 & \\frac{- dy_{00} + dy_{10}}{- dy_{00} + dy_{01}} & \\frac{- dy_{00} + dy_{10}}{- dy_{00} + dy_{01}}\\\\1 & \\frac{- dx_{00} + dx_{01}}{- dx_{00} + dx_{10}} & 1 & \\frac{- dx_{00} + dx_{01}}{- dx_{00} + dx_{10}}\\\\1 & \\frac{- dx_{00} + dx_{11}}{- dx_{00} + dx_{10}} & \\frac{- dy_{00} + dy_{11}}{- dy_{00} + dy_{01}} & \\frac{\\left(- dx_{00} + dx_{11}\\right) \\left(- dy_{00} + dy_{11}\\right)}{\\left(- dx_{00} + dx_{10}\\right) \\left(- dy_{00} + dy_{01}\\right)}\\end{matrix}\\right]$$"
      ],
      "text/plain": [
       "⎡1       0             0                      0              ⎤\n",
       "⎢                                                            ⎥\n",
       "⎢                 -dy₀₀ + dy₁₀          -dy₀₀ + dy₁₀         ⎥\n",
       "⎢1       1        ────────────          ────────────         ⎥\n",
       "⎢                 -dy₀₀ + dy₀₁          -dy₀₀ + dy₀₁         ⎥\n",
       "⎢                                                            ⎥\n",
       "⎢   -dx₀₀ + dx₀₁                        -dx₀₀ + dx₀₁         ⎥\n",
       "⎢1  ────────────       1                ────────────         ⎥\n",
       "⎢   -dx₀₀ + dx₁₀                        -dx₀₀ + dx₁₀         ⎥\n",
       "⎢                                                            ⎥\n",
       "⎢   -dx₀₀ + dx₁₁  -dy₀₀ + dy₁₁  (-dx₀₀ + dx₁₁)⋅(-dy₀₀ + dy₁₁)⎥\n",
       "⎢1  ────────────  ────────────  ─────────────────────────────⎥\n",
       "⎣   -dx₀₀ + dx₁₀  -dy₀₀ + dy₀₁  (-dx₀₀ + dx₁₀)⋅(-dy₀₀ + dy₀₁)⎦"
      ]
     },
     "execution_count": 4,
     "metadata": {},
     "output_type": "execute_result"
    }
   ],
   "source": [
    "Vandermonde"
   ]
  },
  {
   "cell_type": "code",
   "execution_count": 6,
   "metadata": {
    "collapsed": false
   },
   "outputs": [
    {
     "data": {
      "text/latex": [
       "$$\\left[\\begin{matrix}1\\\\\\frac{- dx_{00} + x}{- dx_{00} + dx_{10}}\\\\\\frac{- dy_{00} + y}{- dy_{00} + dy_{01}}\\\\\\frac{\\left(- dx_{00} + x\\right) \\left(- dy_{00} + y\\right)}{\\left(- dx_{00} + dx_{10}\\right) \\left(- dy_{00} + dy_{01}\\right)}\\end{matrix}\\right]$$"
      ],
      "text/plain": [
       "⎡              1              ⎤\n",
       "⎢                             ⎥\n",
       "⎢         -dx₀₀ + x           ⎥\n",
       "⎢        ────────────         ⎥\n",
       "⎢        -dx₀₀ + dx₁₀         ⎥\n",
       "⎢                             ⎥\n",
       "⎢         -dy₀₀ + y           ⎥\n",
       "⎢        ────────────         ⎥\n",
       "⎢        -dy₀₀ + dy₀₁         ⎥\n",
       "⎢                             ⎥\n",
       "⎢   (-dx₀₀ + x)⋅(-dy₀₀ + y)   ⎥\n",
       "⎢─────────────────────────────⎥\n",
       "⎣(-dx₀₀ + dx₁₀)⋅(-dy₀₀ + dy₀₁)⎦"
      ]
     },
     "execution_count": 6,
     "metadata": {},
     "output_type": "execute_result"
    }
   ],
   "source": [
    "Vector = Matrix([1,(x-dx00)/(dx10-dx00),(y-dy00)/(dy01-dy00),(x-dx00)/(dx10-dx00)*(y-dy00)/(dy01-dy00)])\n",
    "Vector"
   ]
  },
  {
   "cell_type": "code",
   "execution_count": 8,
   "metadata": {
    "collapsed": false
   },
   "outputs": [],
   "source": [
    "V1 =Vandermonde.inverse_ADJ()\n",
    "V1 = V1.T"
   ]
  },
  {
   "cell_type": "code",
   "execution_count": 32,
   "metadata": {
    "collapsed": false
   },
   "outputs": [],
   "source": [
    "VD = V1*Vector\n",
    "VD = simplify(VD)"
   ]
  },
  {
   "cell_type": "code",
   "execution_count": 34,
   "metadata": {
    "collapsed": false
   },
   "outputs": [
    {
     "data": {
      "text/latex": [
       "$$\\left[\\begin{matrix}\\frac{- dx_{01} dx_{10} dy_{01} dy_{11} + dx_{01} dx_{10} dy_{01} y + dx_{01} dx_{10} dy_{10} dy_{11} - dx_{01} dx_{10} dy_{10} y + dx_{01} dx_{11} dy_{01} dy_{10} - dx_{01} dx_{11} dy_{01} y - dx_{01} dx_{11} dy_{10} dy_{11} + dx_{01} dx_{11} dy_{11} y - dx_{01} dy_{01} dy_{10} x + dx_{01} dy_{01} dy_{11} x + dx_{01} dy_{10} x y - dx_{01} dy_{11} x y - dx_{10} dx_{11} dy_{01} dy_{10} + dx_{10} dx_{11} dy_{01} dy_{11} + dx_{10} dx_{11} dy_{10} y - dx_{10} dx_{11} dy_{11} y + dx_{10} dy_{01} dy_{10} x - dx_{10} dy_{01} x y - dx_{10} dy_{10} dy_{11} x + dx_{10} dy_{11} x y - dx_{11} dy_{01} dy_{11} x + dx_{11} dy_{01} x y + dx_{11} dy_{10} dy_{11} x - dx_{11} dy_{10} x y}{dx_{00} dx_{01} dy_{00} dy_{10} - dx_{00} dx_{01} dy_{00} dy_{11} - dx_{00} dx_{01} dy_{01} dy_{10} + dx_{00} dx_{01} dy_{01} dy_{11} - dx_{00} dx_{10} dy_{00} dy_{01} + dx_{00} dx_{10} dy_{00} dy_{11} + dx_{00} dx_{10} dy_{01} dy_{10} - dx_{00} dx_{10} dy_{10} dy_{11} + dx_{00} dx_{11} dy_{00} dy_{01} - dx_{00} dx_{11} dy_{00} dy_{10} - dx_{00} dx_{11} dy_{01} dy_{11} + dx_{00} dx_{11} dy_{10} dy_{11} + dx_{01} dx_{10} dy_{00} dy_{01} - dx_{01} dx_{10} dy_{00} dy_{10} - dx_{01} dx_{10} dy_{01} dy_{11} + dx_{01} dx_{10} dy_{10} dy_{11} - dx_{01} dx_{11} dy_{00} dy_{01} + dx_{01} dx_{11} dy_{00} dy_{11} + dx_{01} dx_{11} dy_{01} dy_{10} - dx_{01} dx_{11} dy_{10} dy_{11} + dx_{10} dx_{11} dy_{00} dy_{10} - dx_{10} dx_{11} dy_{00} dy_{11} - dx_{10} dx_{11} dy_{01} dy_{10} + dx_{10} dx_{11} dy_{01} dy_{11}}\\\\\\frac{- \\left(dx_{00} - dx_{01}\\right) \\left(dx_{00} - dx_{11}\\right) \\left(dy_{00} - y\\right) \\left(\\left(- dx_{00} + dx_{10}\\right) \\left(dy_{00} - dy_{01}\\right) + \\left(dx_{00} - dx_{10}\\right) \\left(dy_{00} - dy_{11}\\right)\\right) - \\left(dx_{00} - dx_{10}\\right) \\left(dx_{00} - x\\right) \\left(- dx_{01} + dx_{11}\\right) \\left(dy_{00} - dy_{01}\\right) \\left(dy_{00} - dy_{11}\\right) + \\left(dx_{00} - x\\right) \\left(dy_{00} - y\\right) \\left(\\left(- dx_{00} + dx_{10}\\right) \\left(dx_{00} - dx_{11}\\right) \\left(dy_{00} - dy_{01}\\right) + \\left(dx_{00} - dx_{01}\\right) \\left(dx_{00} - dx_{10}\\right) \\left(dy_{00} - dy_{11}\\right)\\right)}{\\left(dx_{00} - dx_{10}\\right) \\left(3 \\left(dx_{00} - dx_{01}\\right) \\left(dx_{00} - dx_{10}\\right) \\left(dy_{00} - dy_{11}\\right) \\left(2 dy_{00} - dy_{01} - dy_{10}\\right) - \\left(dx_{00} - dx_{01}\\right) \\left(dy_{00} - dy_{11}\\right) \\left(\\left(dx_{00} - dx_{10}\\right) \\left(dy_{00} - dy_{01}\\right) + \\left(dx_{00} - dx_{10}\\right) \\left(dy_{00} - dy_{10}\\right) + \\left(dy_{00} - dy_{10}\\right) \\left(2 dx_{00} - dx_{01} - dx_{10}\\right)\\right) + 3 \\left(dx_{00} - dx_{11}\\right) \\left(dy_{00} - dy_{01}\\right) \\left(dy_{00} - dy_{10}\\right) \\left(2 dx_{00} - dx_{01} - dx_{10}\\right) - \\left(dx_{00} - dx_{11}\\right) \\left(dy_{00} - dy_{10}\\right) \\left(\\left(dx_{00} - dx_{01}\\right) \\left(dy_{00} - dy_{01}\\right) + \\left(dx_{00} - dx_{01}\\right) \\left(2 dy_{00} - dy_{01} - dy_{10}\\right) + \\left(dx_{00} - dx_{10}\\right) \\left(dy_{00} - dy_{01}\\right)\\right) - \\left(dx_{00} - dx_{11}\\right) \\left(dy_{00} - dy_{11}\\right) \\left(\\left(dx_{00} - dx_{01}\\right) \\left(dy_{00} - dy_{10}\\right) - \\left(dx_{00} - dx_{10}\\right) \\left(dy_{00} - dy_{01}\\right)\\right) + \\left(\\left(dx_{00} - dx_{01}\\right) \\left(dy_{00} - dy_{10}\\right) - 3 \\left(dx_{00} - dx_{10}\\right) \\left(dy_{00} - dy_{01}\\right)\\right) \\left(\\left(dx_{00} - dx_{01}\\right) \\left(dy_{00} - dy_{11}\\right) + \\left(dx_{00} - dx_{11}\\right) \\left(dy_{00} - dy_{10}\\right)\\right)\\right)}\\\\\\frac{- \\left(dx_{00} - dx_{10}\\right) \\left(dx_{00} - dx_{11}\\right) \\left(dy_{00} - dy_{01}\\right) \\left(dy_{00} - y\\right) \\left(dy_{10} - dy_{11}\\right) + \\left(dx_{00} - x\\right) \\left(dy_{00} - dy_{01}\\right) \\left(dy_{00} - y\\right) \\left(\\left(dx_{00} - dx_{10}\\right) \\left(dy_{00} - dy_{11}\\right) - \\left(dx_{00} - dx_{11}\\right) \\left(dy_{00} - dy_{10}\\right)\\right) - \\left(dx_{00} - x\\right) \\left(dy_{00} - dy_{10}\\right) \\left(dy_{00} - dy_{11}\\right) \\left(\\left(dx_{00} - dx_{10}\\right) \\left(dy_{00} - dy_{01}\\right) - \\left(dx_{00} - dx_{11}\\right) \\left(dy_{00} - dy_{01}\\right)\\right)}{\\left(dy_{00} - dy_{01}\\right) \\left(3 \\left(dx_{00} - dx_{01}\\right) \\left(dx_{00} - dx_{10}\\right) \\left(dy_{00} - dy_{11}\\right) \\left(- 2 dy_{00} + dy_{01} + dy_{10}\\right) + \\left(dx_{00} - dx_{01}\\right) \\left(dy_{00} - dy_{11}\\right) \\left(\\left(dx_{00} - dx_{10}\\right) \\left(dy_{00} - dy_{01}\\right) + \\left(dx_{00} - dx_{10}\\right) \\left(dy_{00} - dy_{10}\\right) - \\left(dy_{00} - dy_{10}\\right) \\left(- 2 dx_{00} + dx_{01} + dx_{10}\\right)\\right) + 3 \\left(dx_{00} - dx_{11}\\right) \\left(dy_{00} - dy_{01}\\right) \\left(dy_{00} - dy_{10}\\right) \\left(- 2 dx_{00} + dx_{01} + dx_{10}\\right) + \\left(dx_{00} - dx_{11}\\right) \\left(dy_{00} - dy_{10}\\right) \\left(\\left(dx_{00} - dx_{01}\\right) \\left(dy_{00} - dy_{01}\\right) - \\left(dx_{00} - dx_{01}\\right) \\left(- 2 dy_{00} + dy_{01} + dy_{10}\\right) + \\left(dx_{00} - dx_{10}\\right) \\left(dy_{00} - dy_{01}\\right)\\right) + \\left(dx_{00} - dx_{11}\\right) \\left(dy_{00} - dy_{11}\\right) \\left(\\left(dx_{00} - dx_{01}\\right) \\left(dy_{00} - dy_{10}\\right) - \\left(dx_{00} - dx_{10}\\right) \\left(dy_{00} - dy_{01}\\right)\\right) - \\left(\\left(dx_{00} - dx_{01}\\right) \\left(dy_{00} - dy_{10}\\right) - 3 \\left(dx_{00} - dx_{10}\\right) \\left(dy_{00} - dy_{01}\\right)\\right) \\left(\\left(dx_{00} - dx_{01}\\right) \\left(dy_{00} - dy_{11}\\right) + \\left(dx_{00} - dx_{11}\\right) \\left(dy_{00} - dy_{10}\\right)\\right)\\right)}\\\\\\frac{- \\left(dx_{00} - dx_{01}\\right) \\left(dx_{00} - dx_{10}\\right) \\left(dy_{00} - y\\right) \\left(- dy_{01} + dy_{10}\\right) + \\left(dx_{00} - x\\right) \\left(dy_{00} - dy_{10}\\right) \\left(\\left(dx_{00} - dx_{01}\\right) \\left(dy_{00} - dy_{01}\\right) + \\left(dx_{00} - dx_{10}\\right) \\left(- dy_{00} + dy_{01}\\right)\\right) - \\left(dx_{00} - x\\right) \\left(dy_{00} - y\\right) \\left(\\left(dx_{00} - dx_{01}\\right) \\left(dy_{00} - dy_{10}\\right) - \\left(dx_{00} - dx_{10}\\right) \\left(dy_{00} - dy_{01}\\right)\\right)}{3 \\left(dx_{00} - dx_{01}\\right) \\left(dx_{00} - dx_{10}\\right) \\left(dy_{00} - dy_{11}\\right) \\left(2 dy_{00} - dy_{01} - dy_{10}\\right) - \\left(dx_{00} - dx_{01}\\right) \\left(dy_{00} - dy_{11}\\right) \\left(\\left(dx_{00} - dx_{10}\\right) \\left(dy_{00} - dy_{01}\\right) + \\left(dx_{00} - dx_{10}\\right) \\left(dy_{00} - dy_{10}\\right) + \\left(dy_{00} - dy_{10}\\right) \\left(2 dx_{00} - dx_{01} - dx_{10}\\right)\\right) + 3 \\left(dx_{00} - dx_{11}\\right) \\left(dy_{00} - dy_{01}\\right) \\left(dy_{00} - dy_{10}\\right) \\left(2 dx_{00} - dx_{01} - dx_{10}\\right) - \\left(dx_{00} - dx_{11}\\right) \\left(dy_{00} - dy_{10}\\right) \\left(\\left(dx_{00} - dx_{01}\\right) \\left(dy_{00} - dy_{01}\\right) + \\left(dx_{00} - dx_{01}\\right) \\left(2 dy_{00} - dy_{01} - dy_{10}\\right) + \\left(dx_{00} - dx_{10}\\right) \\left(dy_{00} - dy_{01}\\right)\\right) - \\left(dx_{00} - dx_{11}\\right) \\left(dy_{00} - dy_{11}\\right) \\left(\\left(dx_{00} - dx_{01}\\right) \\left(dy_{00} - dy_{10}\\right) - \\left(dx_{00} - dx_{10}\\right) \\left(dy_{00} - dy_{01}\\right)\\right) + \\left(\\left(dx_{00} - dx_{01}\\right) \\left(dy_{00} - dy_{10}\\right) - 3 \\left(dx_{00} - dx_{10}\\right) \\left(dy_{00} - dy_{01}\\right)\\right) \\left(\\left(dx_{00} - dx_{01}\\right) \\left(dy_{00} - dy_{11}\\right) + \\left(dx_{00} - dx_{11}\\right) \\left(dy_{00} - dy_{10}\\right)\\right)}\\end{matrix}\\right]$$"
      ],
      "text/plain": [
       "⎡                                                                             \n",
       "⎢                                                   ──────────────────────────\n",
       "⎢                                                   dx₀₀⋅dx₀₁⋅dy₀₀⋅dy₁₀ - dx₀₀\n",
       "⎢                                                                             \n",
       "⎢                                                                             \n",
       "⎢  ───────────────────────────────────────────────────────────────────────────\n",
       "⎢  (dx₀₀ - dx₁₀)⋅(3⋅(dx₀₀ - dx₀₁)⋅(dx₀₀ - dx₁₀)⋅(dy₀₀ - dy₁₁)⋅(2⋅dy₀₀ - dy₀₁ -\n",
       "⎢                                                                             \n",
       "⎢                                                                             \n",
       "⎢─────────────────────────────────────────────────────────────────────────────\n",
       "⎢(dy₀₀ - dy₀₁)⋅(3⋅(dx₀₀ - dx₀₁)⋅(dx₀₀ - dx₁₀)⋅(dy₀₀ - dy₁₁)⋅(-2⋅dy₀₀ + dy₀₁ + \n",
       "⎢                                                                             \n",
       "⎢                                                                             \n",
       "⎢          ───────────────────────────────────────────────────────────────────\n",
       "⎣          3⋅(dx₀₀ - dx₀₁)⋅(dx₀₀ - dx₁₀)⋅(dy₀₀ - dy₁₁)⋅(2⋅dy₀₀ - dy₀₁ - dy₁₀) \n",
       "\n",
       "          -dx₀₁⋅dx₁₀⋅dy₀₁⋅dy₁₁ + dx₀₁⋅dx₁₀⋅dy₀₁⋅y + dx₀₁⋅dx₁₀⋅dy₁₀⋅dy₁₁ - dx₀₁\n",
       "──────────────────────────────────────────────────────────────────────────────\n",
       "⋅dx₀₁⋅dy₀₀⋅dy₁₁ - dx₀₀⋅dx₀₁⋅dy₀₁⋅dy₁₀ + dx₀₀⋅dx₀₁⋅dy₀₁⋅dy₁₁ - dx₀₀⋅dx₁₀⋅dy₀₀⋅d\n",
       "                                                                              \n",
       "                                                                              \n",
       "──────────────────────────────────────────────────────────────────────────────\n",
       " dy₁₀) - (dx₀₀ - dx₀₁)⋅(dy₀₀ - dy₁₁)⋅((dx₀₀ - dx₁₀)⋅(dy₀₀ - dy₀₁) + (dx₀₀ - dx\n",
       "                                                                              \n",
       "                                                                              \n",
       "──────────────────────────────────────────────────────────────────────────────\n",
       "dy₁₀) + (dx₀₀ - dx₀₁)⋅(dy₀₀ - dy₁₁)⋅((dx₀₀ - dx₁₀)⋅(dy₀₀ - dy₀₁) + (dx₀₀ - dx₁\n",
       "                                                                              \n",
       "                                                                              \n",
       "──────────────────────────────────────────────────────────────────────────────\n",
       "- (dx₀₀ - dx₀₁)⋅(dy₀₀ - dy₁₁)⋅((dx₀₀ - dx₁₀)⋅(dy₀₀ - dy₀₁) + (dx₀₀ - dx₁₀)⋅(dy\n",
       "\n",
       "⋅dx₁₀⋅dy₁₀⋅y + dx₀₁⋅dx₁₁⋅dy₀₁⋅dy₁₀ - dx₀₁⋅dx₁₁⋅dy₀₁⋅y - dx₀₁⋅dx₁₁⋅dy₁₀⋅dy₁₁ + \n",
       "──────────────────────────────────────────────────────────────────────────────\n",
       "y₀₁ + dx₀₀⋅dx₁₀⋅dy₀₀⋅dy₁₁ + dx₀₀⋅dx₁₀⋅dy₀₁⋅dy₁₀ - dx₀₀⋅dx₁₀⋅dy₁₀⋅dy₁₁ + dx₀₀⋅d\n",
       "                                                                              \n",
       "                 -(dx₀₀ - dx₀₁)⋅(dx₀₀ - dx₁₁)⋅(dy₀₀ - y)⋅((-dx₀₀ + dx₁₀)⋅(dy₀₀\n",
       "──────────────────────────────────────────────────────────────────────────────\n",
       "₁₀)⋅(dy₀₀ - dy₁₀) + (dy₀₀ - dy₁₀)⋅(2⋅dx₀₀ - dx₀₁ - dx₁₀)) + 3⋅(dx₀₀ - dx₁₁)⋅(d\n",
       "                                                                              \n",
       "                          -(dx₀₀ - dx₁₀)⋅(dx₀₀ - dx₁₁)⋅(dy₀₀ - dy₀₁)⋅(dy₀₀ - y\n",
       "──────────────────────────────────────────────────────────────────────────────\n",
       "₀)⋅(dy₀₀ - dy₁₀) - (dy₀₀ - dy₁₀)⋅(-2⋅dx₀₀ + dx₀₁ + dx₁₀)) + 3⋅(dx₀₀ - dx₁₁)⋅(d\n",
       "                                                                              \n",
       "                                              -(dx₀₀ - dx₀₁)⋅(dx₀₀ - dx₁₀)⋅(dy\n",
       "──────────────────────────────────────────────────────────────────────────────\n",
       "₀₀ - dy₁₀) + (dy₀₀ - dy₁₀)⋅(2⋅dx₀₀ - dx₀₁ - dx₁₀)) + 3⋅(dx₀₀ - dx₁₁)⋅(dy₀₀ - d\n",
       "\n",
       "dx₀₁⋅dx₁₁⋅dy₁₁⋅y - dx₀₁⋅dy₀₁⋅dy₁₀⋅x + dx₀₁⋅dy₀₁⋅dy₁₁⋅x + dx₀₁⋅dy₁₀⋅x⋅y - dx₀₁⋅\n",
       "──────────────────────────────────────────────────────────────────────────────\n",
       "x₁₁⋅dy₀₀⋅dy₀₁ - dx₀₀⋅dx₁₁⋅dy₀₀⋅dy₁₀ - dx₀₀⋅dx₁₁⋅dy₀₁⋅dy₁₁ + dx₀₀⋅dx₁₁⋅dy₁₀⋅dy₁\n",
       "                                                                              \n",
       " - dy₀₁) + (dx₀₀ - dx₁₀)⋅(dy₀₀ - dy₁₁)) - (dx₀₀ - dx₁₀)⋅(dx₀₀ - x)⋅(-dx₀₁ + dx\n",
       "──────────────────────────────────────────────────────────────────────────────\n",
       "y₀₀ - dy₀₁)⋅(dy₀₀ - dy₁₀)⋅(2⋅dx₀₀ - dx₀₁ - dx₁₀) - (dx₀₀ - dx₁₁)⋅(dy₀₀ - dy₁₀)\n",
       "                                                                              \n",
       ")⋅(dy₁₀ - dy₁₁) + (dx₀₀ - x)⋅(dy₀₀ - dy₀₁)⋅(dy₀₀ - y)⋅((dx₀₀ - dx₁₀)⋅(dy₀₀ - d\n",
       "──────────────────────────────────────────────────────────────────────────────\n",
       "y₀₀ - dy₀₁)⋅(dy₀₀ - dy₁₀)⋅(-2⋅dx₀₀ + dx₀₁ + dx₁₀) + (dx₀₀ - dx₁₁)⋅(dy₀₀ - dy₁₀\n",
       "                                                                              \n",
       "₀₀ - y)⋅(-dy₀₁ + dy₁₀) + (dx₀₀ - x)⋅(dy₀₀ - dy₁₀)⋅((dx₀₀ - dx₀₁)⋅(dy₀₀ - dy₀₁)\n",
       "──────────────────────────────────────────────────────────────────────────────\n",
       "y₀₁)⋅(dy₀₀ - dy₁₀)⋅(2⋅dx₀₀ - dx₀₁ - dx₁₀) - (dx₀₀ - dx₁₁)⋅(dy₀₀ - dy₁₀)⋅((dx₀₀\n",
       "\n",
       "dy₁₁⋅x⋅y - dx₁₀⋅dx₁₁⋅dy₀₁⋅dy₁₀ + dx₁₀⋅dx₁₁⋅dy₀₁⋅dy₁₁ + dx₁₀⋅dx₁₁⋅dy₁₀⋅y - dx₁₀\n",
       "──────────────────────────────────────────────────────────────────────────────\n",
       "₁ + dx₀₁⋅dx₁₀⋅dy₀₀⋅dy₀₁ - dx₀₁⋅dx₁₀⋅dy₀₀⋅dy₁₀ - dx₀₁⋅dx₁₀⋅dy₀₁⋅dy₁₁ + dx₀₁⋅dx₁\n",
       "                                                                              \n",
       "₁₁)⋅(dy₀₀ - dy₀₁)⋅(dy₀₀ - dy₁₁) + (dx₀₀ - x)⋅(dy₀₀ - y)⋅((-dx₀₀ + dx₁₀)⋅(dx₀₀ \n",
       "──────────────────────────────────────────────────────────────────────────────\n",
       "⋅((dx₀₀ - dx₀₁)⋅(dy₀₀ - dy₀₁) + (dx₀₀ - dx₀₁)⋅(2⋅dy₀₀ - dy₀₁ - dy₁₀) + (dx₀₀ -\n",
       "                                                                              \n",
       "y₁₁) - (dx₀₀ - dx₁₁)⋅(dy₀₀ - dy₁₀)) - (dx₀₀ - x)⋅(dy₀₀ - dy₁₀)⋅(dy₀₀ - dy₁₁)⋅(\n",
       "──────────────────────────────────────────────────────────────────────────────\n",
       ")⋅((dx₀₀ - dx₀₁)⋅(dy₀₀ - dy₀₁) - (dx₀₀ - dx₀₁)⋅(-2⋅dy₀₀ + dy₀₁ + dy₁₀) + (dx₀₀\n",
       "                                                                              \n",
       " + (dx₀₀ - dx₁₀)⋅(-dy₀₀ + dy₀₁)) - (dx₀₀ - x)⋅(dy₀₀ - y)⋅((dx₀₀ - dx₀₁)⋅(dy₀₀ \n",
       "──────────────────────────────────────────────────────────────────────────────\n",
       " - dx₀₁)⋅(dy₀₀ - dy₀₁) + (dx₀₀ - dx₀₁)⋅(2⋅dy₀₀ - dy₀₁ - dy₁₀) + (dx₀₀ - dx₁₀)⋅\n",
       "\n",
       "⋅dx₁₁⋅dy₁₁⋅y + dx₁₀⋅dy₀₁⋅dy₁₀⋅x - dx₁₀⋅dy₀₁⋅x⋅y - dx₁₀⋅dy₁₀⋅dy₁₁⋅x + dx₁₀⋅dy₁₁\n",
       "──────────────────────────────────────────────────────────────────────────────\n",
       "₀⋅dy₁₀⋅dy₁₁ - dx₀₁⋅dx₁₁⋅dy₀₀⋅dy₀₁ + dx₀₁⋅dx₁₁⋅dy₀₀⋅dy₁₁ + dx₀₁⋅dx₁₁⋅dy₀₁⋅dy₁₀ \n",
       "                                                                              \n",
       "- dx₁₁)⋅(dy₀₀ - dy₀₁) + (dx₀₀ - dx₀₁)⋅(dx₀₀ - dx₁₀)⋅(dy₀₀ - dy₁₁))            \n",
       "──────────────────────────────────────────────────────────────────────────────\n",
       " dx₁₀)⋅(dy₀₀ - dy₀₁)) - (dx₀₀ - dx₁₁)⋅(dy₀₀ - dy₁₁)⋅((dx₀₀ - dx₀₁)⋅(dy₀₀ - dy₁\n",
       "                                                                              \n",
       "(dx₀₀ - dx₁₀)⋅(dy₀₀ - dy₀₁) - (dx₀₀ - dx₁₁)⋅(dy₀₀ - dy₀₁))                    \n",
       "──────────────────────────────────────────────────────────────────────────────\n",
       " - dx₁₀)⋅(dy₀₀ - dy₀₁)) + (dx₀₀ - dx₁₁)⋅(dy₀₀ - dy₁₁)⋅((dx₀₀ - dx₀₁)⋅(dy₀₀ - d\n",
       "                                                                              \n",
       "- dy₁₀) - (dx₀₀ - dx₁₀)⋅(dy₀₀ - dy₀₁))                                        \n",
       "──────────────────────────────────────────────────────────────────────────────\n",
       "(dy₀₀ - dy₀₁)) - (dx₀₀ - dx₁₁)⋅(dy₀₀ - dy₁₁)⋅((dx₀₀ - dx₀₁)⋅(dy₀₀ - dy₁₀) - (d\n",
       "\n",
       "⋅x⋅y - dx₁₁⋅dy₀₁⋅dy₁₁⋅x + dx₁₁⋅dy₀₁⋅x⋅y + dx₁₁⋅dy₁₀⋅dy₁₁⋅x - dx₁₁⋅dy₁₀⋅x⋅y    \n",
       "──────────────────────────────────────────────────────────────────────────────\n",
       "- dx₀₁⋅dx₁₁⋅dy₁₀⋅dy₁₁ + dx₁₀⋅dx₁₁⋅dy₀₀⋅dy₁₀ - dx₁₀⋅dx₁₁⋅dy₀₀⋅dy₁₁ - dx₁₀⋅dx₁₁⋅\n",
       "                                                                              \n",
       "                                                                              \n",
       "──────────────────────────────────────────────────────────────────────────────\n",
       "₀) - (dx₀₀ - dx₁₀)⋅(dy₀₀ - dy₀₁)) + ((dx₀₀ - dx₀₁)⋅(dy₀₀ - dy₁₀) - 3⋅(dx₀₀ - d\n",
       "                                                                              \n",
       "                                                                              \n",
       "──────────────────────────────────────────────────────────────────────────────\n",
       "y₁₀) - (dx₀₀ - dx₁₀)⋅(dy₀₀ - dy₀₁)) - ((dx₀₀ - dx₀₁)⋅(dy₀₀ - dy₁₀) - 3⋅(dx₀₀ -\n",
       "                                                                              \n",
       "                                                                              \n",
       "──────────────────────────────────────────────────────────────────────────────\n",
       "x₀₀ - dx₁₀)⋅(dy₀₀ - dy₀₁)) + ((dx₀₀ - dx₀₁)⋅(dy₀₀ - dy₁₀) - 3⋅(dx₀₀ - dx₁₀)⋅(d\n",
       "\n",
       "                                                                              \n",
       "───────────────────────────────                                               \n",
       "dy₀₁⋅dy₁₀ + dx₁₀⋅dx₁₁⋅dy₀₁⋅dy₁₁                                               \n",
       "                                                                              \n",
       "                                                                              \n",
       "──────────────────────────────────────────────────────────────────────────────\n",
       "x₁₀)⋅(dy₀₀ - dy₀₁))⋅((dx₀₀ - dx₀₁)⋅(dy₀₀ - dy₁₁) + (dx₀₀ - dx₁₁)⋅(dy₀₀ - dy₁₀)\n",
       "                                                                              \n",
       "                                                                              \n",
       "──────────────────────────────────────────────────────────────────────────────\n",
       " dx₁₀)⋅(dy₀₀ - dy₀₁))⋅((dx₀₀ - dx₀₁)⋅(dy₀₀ - dy₁₁) + (dx₀₀ - dx₁₁)⋅(dy₀₀ - dy₁\n",
       "                                                                              \n",
       "                                                                              \n",
       "────────────────────────────────────────────────────────────────────────      \n",
       "y₀₀ - dy₀₁))⋅((dx₀₀ - dx₀₁)⋅(dy₀₀ - dy₁₁) + (dx₀₀ - dx₁₁)⋅(dy₀₀ - dy₁₀))      \n",
       "\n",
       "    ⎤\n",
       "    ⎥\n",
       "    ⎥\n",
       "    ⎥\n",
       "    ⎥\n",
       "──  ⎥\n",
       "))  ⎥\n",
       "    ⎥\n",
       "    ⎥\n",
       "────⎥\n",
       "₀)))⎥\n",
       "    ⎥\n",
       "    ⎥\n",
       "    ⎥\n",
       "    ⎦"
      ]
     },
     "execution_count": 34,
     "metadata": {},
     "output_type": "execute_result"
    }
   ],
   "source": [
    "VD"
   ]
  },
  {
   "cell_type": "code",
   "execution_count": 22,
   "metadata": {
    "collapsed": false
   },
   "outputs": [
    {
     "data": {
      "text/latex": [
       "$$4$$"
      ],
      "text/plain": [
       "4"
      ]
     },
     "execution_count": 22,
     "metadata": {},
     "output_type": "execute_result"
    }
   ],
   "source": [
    "len(VD)"
   ]
  },
  {
   "cell_type": "code",
   "execution_count": 5,
   "metadata": {
    "collapsed": false
   },
   "outputs": [],
   "source": [
    "a, b, c, d = symbols(r'a, b, c, d')\n",
    "Vandermonde2 = Matrix([[1, 0,0,0],\n",
    "           [1, 1, a, a],\n",
    "           [1, b,1 ,b],\n",
    "           [1,c, d, c*d]])\n"
   ]
  },
  {
   "cell_type": "code",
   "execution_count": null,
   "metadata": {
    "collapsed": true
   },
   "outputs": [],
   "source": [
    "a  = (dy10-dy00)/(dy01-dy00);\n",
    "b  = (dx01-dx00)/(dx10-dx00);\n",
    "c  = (dx11-dx00)/(dx10-dx00);\n",
    "d  = (dy11-dy00)/(dy01-dy00);"
   ]
  },
  {
   "cell_type": "code",
   "execution_count": null,
   "metadata": {
    "collapsed": true
   },
   "outputs": [],
   "source": []
  },
  {
   "cell_type": "code",
   "execution_count": 9,
   "metadata": {
    "collapsed": false
   },
   "outputs": [
    {
     "data": {
      "text/latex": [
       "$$\\left[\\begin{matrix}1 & \\frac{a b - a c d + a d - a - b d + c d}{a b c d - a b c - a b d + a c + b d - c d} & \\frac{a b - a c - b c d + b c - b + c d}{a b c d - a b c - a b d + a c + b d - c d} & \\frac{- a b + a c + b d - c - d + 1}{a b c d - a b c - a b d + a c + b d - c d}\\\\0 & \\frac{d \\left(b - c\\right)}{a b c d - a b c - a b d + a c + b d - c d} & \\frac{b c \\left(d - 1\\right)}{a b c d - a b c - a b d + a c + b d - c d} & \\frac{- b d + c}{a b c d - a b c - a b d + a c + b d - c d}\\\\0 & \\frac{a d \\left(c - 1\\right)}{a b c d - a b c - a b d + a c + b d - c d} & \\frac{c \\left(a - d\\right)}{a b c d - a b c - a b d + a c + b d - c d} & \\frac{- a c + d}{a b c d - a b c - a b d + a c + b d - c d}\\\\0 & - \\frac{a \\left(b - 1\\right)}{a b c d - a b c - a b d + a c + b d - c d} & - \\frac{b \\left(a - 1\\right)}{a b c d - a b c - a b d + a c + b d - c d} & \\frac{a b - 1}{a b c d - a b c - a b d + a c + b d - c d}\\end{matrix}\\right]$$"
      ],
      "text/plain": [
       "⎡       a⋅b - a⋅c⋅d + a⋅d - a - b⋅d + c⋅d          a⋅b - a⋅c - b⋅c⋅d + b⋅c - b\n",
       "⎢1  ─────────────────────────────────────────  ───────────────────────────────\n",
       "⎢   a⋅b⋅c⋅d - a⋅b⋅c - a⋅b⋅d + a⋅c + b⋅d - c⋅d  a⋅b⋅c⋅d - a⋅b⋅c - a⋅b⋅d + a⋅c +\n",
       "⎢                                                                             \n",
       "⎢                   d⋅(b - c)                                 b⋅c⋅(d - 1)     \n",
       "⎢0  ─────────────────────────────────────────  ───────────────────────────────\n",
       "⎢   a⋅b⋅c⋅d - a⋅b⋅c - a⋅b⋅d + a⋅c + b⋅d - c⋅d  a⋅b⋅c⋅d - a⋅b⋅c - a⋅b⋅d + a⋅c +\n",
       "⎢                                                                             \n",
       "⎢                  a⋅d⋅(c - 1)                                 c⋅(a - d)      \n",
       "⎢0  ─────────────────────────────────────────  ───────────────────────────────\n",
       "⎢   a⋅b⋅c⋅d - a⋅b⋅c - a⋅b⋅d + a⋅c + b⋅d - c⋅d  a⋅b⋅c⋅d - a⋅b⋅c - a⋅b⋅d + a⋅c +\n",
       "⎢                                                                             \n",
       "⎢                  -a⋅(b - 1)                                 -b⋅(a - 1)      \n",
       "⎢0  ─────────────────────────────────────────  ───────────────────────────────\n",
       "⎣   a⋅b⋅c⋅d - a⋅b⋅c - a⋅b⋅d + a⋅c + b⋅d - c⋅d  a⋅b⋅c⋅d - a⋅b⋅c - a⋅b⋅d + a⋅c +\n",
       "\n",
       " + c⋅d             -a⋅b + a⋅c + b⋅d - c - d + 1      ⎤\n",
       "──────────  ─────────────────────────────────────────⎥\n",
       " b⋅d - c⋅d  a⋅b⋅c⋅d - a⋅b⋅c - a⋅b⋅d + a⋅c + b⋅d - c⋅d⎥\n",
       "                                                     ⎥\n",
       "                             -b⋅d + c                ⎥\n",
       "──────────  ─────────────────────────────────────────⎥\n",
       " b⋅d - c⋅d  a⋅b⋅c⋅d - a⋅b⋅c - a⋅b⋅d + a⋅c + b⋅d - c⋅d⎥\n",
       "                                                     ⎥\n",
       "                             -a⋅c + d                ⎥\n",
       "──────────  ─────────────────────────────────────────⎥\n",
       " b⋅d - c⋅d  a⋅b⋅c⋅d - a⋅b⋅c - a⋅b⋅d + a⋅c + b⋅d - c⋅d⎥\n",
       "                                                     ⎥\n",
       "                             a⋅b - 1                 ⎥\n",
       "──────────  ─────────────────────────────────────────⎥\n",
       " b⋅d - c⋅d  a⋅b⋅c⋅d - a⋅b⋅c - a⋅b⋅d + a⋅c + b⋅d - c⋅d⎦"
      ]
     },
     "execution_count": 9,
     "metadata": {},
     "output_type": "execute_result"
    }
   ],
   "source": [
    "V2 = Vandermonde2.inverse_ADJ()\n",
    "V2 = simplify(V2)\n",
    "V2 = V2.T\n",
    "V2"
   ]
  },
  {
   "cell_type": "code",
   "execution_count": 10,
   "metadata": {
    "collapsed": false
   },
   "outputs": [
    {
     "name": "stdout",
     "output_type": "stream",
     "text": [
      "Interpolation_Coeff[0][0]= 1; \n",
      "Interpolation_Coeff[0][1]= (a*b - a*c*d + a*d - a - b*d + c*d)/(a*b*c*d - a*b*c - a*b*d + a*c + b*d - c*d); \n",
      "Interpolation_Coeff[0][2]= (a*b - a*c - b*c*d + b*c - b + c*d)/(a*b*c*d - a*b*c - a*b*d + a*c + b*d - c*d); \n",
      "Interpolation_Coeff[0][3]= (-a*b + a*c + b*d - c - d + 1)/(a*b*c*d - a*b*c - a*b*d + a*c + b*d - c*d); \n",
      "Interpolation_Coeff[1][0]= 0; \n",
      "Interpolation_Coeff[1][1]= d*(b - c)/(a*b*c*d - a*b*c - a*b*d + a*c + b*d - c*d); \n",
      "Interpolation_Coeff[1][2]= b*c*(d - 1)/(a*b*c*d - a*b*c - a*b*d + a*c + b*d - c*d); \n",
      "Interpolation_Coeff[1][3]= (-b*d + c)/(a*b*c*d - a*b*c - a*b*d + a*c + b*d - c*d); \n",
      "Interpolation_Coeff[2][0]= 0; \n",
      "Interpolation_Coeff[2][1]= a*d*(c - 1)/(a*b*c*d - a*b*c - a*b*d + a*c + b*d - c*d); \n",
      "Interpolation_Coeff[2][2]= c*(a - d)/(a*b*c*d - a*b*c - a*b*d + a*c + b*d - c*d); \n",
      "Interpolation_Coeff[2][3]= (-a*c + d)/(a*b*c*d - a*b*c - a*b*d + a*c + b*d - c*d); \n",
      "Interpolation_Coeff[3][0]= 0; \n",
      "Interpolation_Coeff[3][1]= -a*(b - 1)/(a*b*c*d - a*b*c - a*b*d + a*c + b*d - c*d); \n",
      "Interpolation_Coeff[3][2]= -b*(a - 1)/(a*b*c*d - a*b*c - a*b*d + a*c + b*d - c*d); \n",
      "Interpolation_Coeff[3][3]= (a*b - 1)/(a*b*c*d - a*b*c - a*b*d + a*c + b*d - c*d); \n"
     ]
    }
   ],
   "source": [
    "for i in range(0,4):\n",
    "    for j in range(0,4):\n",
    "        print \"Interpolation_Coeff[%i][%i]= %s; \"%(i,j,printing.ccode(V2[i,j]))"
   ]
  },
  {
   "cell_type": "markdown",
   "metadata": {},
   "source": [
    "## Vandermonde"
   ]
  },
  {
   "cell_type": "code",
   "execution_count": 2,
   "metadata": {
    "collapsed": false
   },
   "outputs": [],
   "source": [
    "a,b,c,d = symbols(r'a,b,c,d')\n",
    "dx00, dy00, dx10, dy10, dx01, dy01, dx11, dy11 = symbols(r'dx00, dy00, dx10, dy10, dx01, dy01, dx11, dy11')\n",
    "f00, f10, f01, f11 = symbols(r'f00, f10, f01, f11')\n"
   ]
  },
  {
   "cell_type": "code",
   "execution_count": 3,
   "metadata": {
    "collapsed": false
   },
   "outputs": [],
   "source": [
    "Vandermonde = Matrix([[dx10, dy10, dx10*dy10],\n",
    "           [dx01, dy01, dx01*dy01],\n",
    "           [dx11, dy11, dx11*dy11]])\n",
    "B = Matrix([a,b,c])\n",
    "C = Matrix([f10-f00,f01-f00,f11-f00])"
   ]
  },
  {
   "cell_type": "code",
   "execution_count": 4,
   "metadata": {
    "collapsed": false
   },
   "outputs": [
    {
     "data": {
      "text/latex": [
       "$$\\left ( \\left[\\begin{matrix}dx_{10} & dy_{10} & dx_{10} dy_{10}\\\\dx_{01} & dy_{01} & dx_{01} dy_{01}\\\\dx_{11} & dy_{11} & dx_{11} dy_{11}\\end{matrix}\\right], \\quad \\left[\\begin{matrix}a\\\\b\\\\c\\end{matrix}\\right], \\quad \\left[\\begin{matrix}- f_{00} + f_{10}\\\\- f_{00} + f_{01}\\\\- f_{00} + f_{11}\\end{matrix}\\right]\\right )$$"
      ],
      "text/plain": [
       "⎛⎡dx₁₀  dy₁₀  dx₁₀⋅dy₁₀⎤, ⎡a⎤, ⎡-f₀₀ + f₁₀⎤⎞\n",
       "⎜⎢                     ⎥  ⎢ ⎥  ⎢          ⎥⎟\n",
       "⎜⎢dx₀₁  dy₀₁  dx₀₁⋅dy₀₁⎥  ⎢b⎥  ⎢-f₀₀ + f₀₁⎥⎟\n",
       "⎜⎢                     ⎥  ⎢ ⎥  ⎢          ⎥⎟\n",
       "⎝⎣dx₁₁  dy₁₁  dx₁₁⋅dy₁₁⎦  ⎣c⎦  ⎣-f₀₀ + f₁₁⎦⎠"
      ]
     },
     "execution_count": 4,
     "metadata": {},
     "output_type": "execute_result"
    }
   ],
   "source": [
    "\n",
    "Vandermonde,B,C\n"
   ]
  },
  {
   "cell_type": "markdown",
   "metadata": {},
   "source": [
    "## LU decomposition"
   ]
  },
  {
   "cell_type": "code",
   "execution_count": 6,
   "metadata": {
    "collapsed": false
   },
   "outputs": [
    {
     "data": {
      "text/latex": [
       "$$\\left ( \\left[\\begin{matrix}1 & 0 & 0\\\\\\frac{dx_{01}}{dx_{10}} & 1 & 0\\\\\\frac{dx_{11}}{dx_{10}} & \\frac{dy_{11} - \\frac{dx_{11} dy_{10}}{dx_{10}}}{- \\frac{dx_{01} dy_{10}}{dx_{10}} + dy_{01}} & 1\\end{matrix}\\right], \\quad \\left[\\begin{matrix}dx_{10} & dy_{10} & dx_{10} dy_{10}\\\\0 & - \\frac{dx_{01} dy_{10}}{dx_{10}} + dy_{01} & dx_{01} dy_{01} - dx_{01} dy_{10}\\\\0 & 0 & - dx_{11} dy_{10} + dx_{11} dy_{11} - \\frac{\\left(dy_{11} - \\frac{dx_{11} dy_{10}}{dx_{10}}\\right) \\left(dx_{01} dy_{01} - dx_{01} dy_{10}\\right)}{- \\frac{dx_{01} dy_{10}}{dx_{10}} + dy_{01}}\\end{matrix}\\right], \\quad \\left [ \\right ]\\right )$$"
      ],
      "text/plain": [
       "⎛⎡ 1            0           0⎤, ⎡dx₁₀         dy₁₀                            \n",
       "⎜⎢                           ⎥  ⎢                                             \n",
       "⎜⎢dx₀₁                       ⎥  ⎢        dx₀₁⋅dy₁₀                            \n",
       "⎜⎢────          1           0⎥  ⎢ 0    - ───────── + dy₀₁                     \n",
       "⎜⎢dx₁₀                       ⎥  ⎢           dx₁₀                              \n",
       "⎜⎢                           ⎥  ⎢                                             \n",
       "⎜⎢              dx₁₁⋅dy₁₀    ⎥  ⎢                                             \n",
       "⎜⎢       dy₁₁ - ─────────    ⎥  ⎢                                             \n",
       "⎜⎢dx₁₁             dx₁₀      ⎥  ⎢                                             \n",
       "⎜⎢────  ──────────────────  1⎥  ⎢ 0            0           -dx₁₁⋅dy₁₀ + dx₁₁⋅d\n",
       "⎜⎢dx₁₀    dx₀₁⋅dy₁₀          ⎥  ⎢                                             \n",
       "⎜⎢      - ───────── + dy₀₁   ⎥  ⎢                                             \n",
       "⎝⎣           dx₁₀            ⎦  ⎣                                             \n",
       "\n",
       "          dx₁₀⋅dy₁₀                             ⎤, []⎞\n",
       "                                                ⎥    ⎟\n",
       "                                                ⎥    ⎟\n",
       "    dx₀₁⋅dy₀₁ - dx₀₁⋅dy₁₀                       ⎥    ⎟\n",
       "                                                ⎥    ⎟\n",
       "                                                ⎥    ⎟\n",
       "      ⎛       dx₁₁⋅dy₁₀⎞                        ⎥    ⎟\n",
       "      ⎜dy₁₁ - ─────────⎟⋅(dx₀₁⋅dy₀₁ - dx₀₁⋅dy₁₀)⎥    ⎟\n",
       "      ⎝          dx₁₀  ⎠                        ⎥    ⎟\n",
       "y₁₁ - ──────────────────────────────────────────⎥    ⎟\n",
       "                    dx₀₁⋅dy₁₀                   ⎥    ⎟\n",
       "                  - ───────── + dy₀₁            ⎥    ⎟\n",
       "                       dx₁₀                     ⎦    ⎠"
      ]
     },
     "execution_count": 6,
     "metadata": {},
     "output_type": "execute_result"
    }
   ],
   "source": [
    "#k,b,c,d = symbols(r'a,b,c,d')\n",
    "Vandermonde.LUdecomposition()"
   ]
  },
  {
   "cell_type": "code",
   "execution_count": 8,
   "metadata": {
    "collapsed": false
   },
   "outputs": [
    {
     "name": "stdout",
     "output_type": "stream",
     "text": [
      "\\left ( \\left[\\begin{matrix}1 & 0 & 0\\\\\\frac{dx_{01}}{dx_{10}} & 1 & 0\\\\\\frac{dx_{11}}{dx_{10}} & \\frac{dy_{11} - \\frac{dx_{11} dy_{10}}{dx_{10}}}{- \\frac{dx_{01} dy_{10}}{dx_{10}} + dy_{01}} & 1\\end{matrix}\\right], \\quad \\left[\\begin{matrix}dx_{10} & dy_{10} & dx_{10} dy_{10}\\\\0 & - \\frac{dx_{01} dy_{10}}{dx_{10}} + dy_{01} & dx_{01} dy_{01} - dx_{01} dy_{10}\\\\0 & 0 & - dx_{11} dy_{10} + dx_{11} dy_{11} - \\frac{\\left(dy_{11} - \\frac{dx_{11} dy_{10}}{dx_{10}}\\right) \\left(dx_{01} dy_{01} - dx_{01} dy_{10}\\right)}{- \\frac{dx_{01} dy_{10}}{dx_{10}} + dy_{01}}\\end{matrix}\\right], \\quad \\left [ \\right ]\\right )\n"
     ]
    }
   ],
   "source": [
    "print latex(Vandermonde.LUdecomposition())"
   ]
  },
  {
   "cell_type": "markdown",
   "metadata": {},
   "source": [
    "## Adjuagate Inverse"
   ]
  },
  {
   "cell_type": "code",
   "execution_count": 14,
   "metadata": {
    "collapsed": false
   },
   "outputs": [
    {
     "data": {
      "text/latex": [
       "$$\\left[\\begin{matrix}dx_{10} & dy_{10} & dx_{10} dy_{10}\\\\0 & dy_{01} & 0\\\\dx_{11} & dy_{11} & dx_{11} dy_{11}\\end{matrix}\\right]$$"
      ],
      "text/plain": [
       "⎡dx₁₀  dy₁₀  dx₁₀⋅dy₁₀⎤\n",
       "⎢                     ⎥\n",
       "⎢ 0    dy₀₁      0    ⎥\n",
       "⎢                     ⎥\n",
       "⎣dx₁₁  dy₁₁  dx₁₁⋅dy₁₁⎦"
      ]
     },
     "execution_count": 14,
     "metadata": {},
     "output_type": "execute_result"
    }
   ],
   "source": [
    "dx00, dy00, dx10, dy10, dx01, dy01, dx11, dy11 = symbols(r'dx00, dy00, dx10, dy10, dx01, dy01, dx11, dy11')\n",
    "Vandermonde = Matrix([[dx10, dy10, dx10*dy10],\n",
    "[dx01, dy01, dx01*dy01],\n",
    "[dx11, dy11, dx11*dy11]])\n",
    "Vandermonde[1,0] = 0\n",
    "Vandermonde[1,2] = 0\n",
    "#Vandermonde[0,1] = 0\n",
    "#Vandermonde[0,2] = 0\n",
    "Vandermonde"
   ]
  },
  {
   "cell_type": "code",
   "execution_count": 15,
   "metadata": {
    "collapsed": false
   },
   "outputs": [
    {
     "data": {
      "text/latex": [
       "$$\\left[\\begin{matrix}\\frac{dx_{11} dy_{01} dy_{11}}{dx_{10}^{2} dx_{11} dy_{10} + dx_{10} dx_{11} dy_{01} dy_{11} + dx_{10} dx_{11} dy_{10} \\left(- dx_{10} - dy_{01}\\right)} & \\frac{dx_{10} dy_{10} dy_{11} - dx_{11} dy_{10} dy_{11}}{dx_{10}^{2} dx_{11} dy_{10} + dx_{10} dx_{11} dy_{01} dy_{11} + dx_{10} dx_{11} dy_{10} \\left(- dx_{10} - dy_{01}\\right)} & - \\frac{dx_{10} dy_{01} dy_{10}}{dx_{10}^{2} dx_{11} dy_{10} + dx_{10} dx_{11} dy_{01} dy_{11} + dx_{10} dx_{11} dy_{10} \\left(- dx_{10} - dy_{01}\\right)}\\\\0 & \\frac{- dx_{10} dx_{11} dy_{10} + dx_{10} dx_{11} dy_{11}}{dx_{10}^{2} dx_{11} dy_{10} + dx_{10} dx_{11} dy_{01} dy_{11} + dx_{10} dx_{11} dy_{10} \\left(- dx_{10} - dy_{01}\\right)} & 0\\\\- \\frac{dx_{11} dy_{01}}{dx_{10}^{2} dx_{11} dy_{10} + dx_{10} dx_{11} dy_{01} dy_{11} + dx_{10} dx_{11} dy_{10} \\left(- dx_{10} - dy_{01}\\right)} & \\frac{- dx_{10} dy_{11} + dx_{11} dy_{10}}{dx_{10}^{2} dx_{11} dy_{10} + dx_{10} dx_{11} dy_{01} dy_{11} + dx_{10} dx_{11} dy_{10} \\left(- dx_{10} - dy_{01}\\right)} & \\frac{dx_{10} dy_{01}}{dx_{10}^{2} dx_{11} dy_{10} + dx_{10} dx_{11} dy_{01} dy_{11} + dx_{10} dx_{11} dy_{10} \\left(- dx_{10} - dy_{01}\\right)}\\end{matrix}\\right]$$"
      ],
      "text/plain": [
       "⎡                            dx₁₁⋅dy₀₁⋅dy₁₁                                   \n",
       "⎢─────────────────────────────────────────────────────────────────────  ──────\n",
       "⎢    2                                                                      2 \n",
       "⎢dx₁₀ ⋅dx₁₁⋅dy₁₀ + dx₁₀⋅dx₁₁⋅dy₀₁⋅dy₁₁ + dx₁₀⋅dx₁₁⋅dy₁₀⋅(-dx₁₀ - dy₀₁)  dx₁₀ ⋅\n",
       "⎢                                                                             \n",
       "⎢                                                                             \n",
       "⎢                                  0                                    ──────\n",
       "⎢                                                                           2 \n",
       "⎢                                                                       dx₁₀ ⋅\n",
       "⎢                                                                             \n",
       "⎢                             -dx₁₁⋅dy₀₁                                      \n",
       "⎢─────────────────────────────────────────────────────────────────────  ──────\n",
       "⎢    2                                                                      2 \n",
       "⎣dx₁₀ ⋅dx₁₁⋅dy₁₀ + dx₁₀⋅dx₁₁⋅dy₀₁⋅dy₁₁ + dx₁₀⋅dx₁₁⋅dy₁₀⋅(-dx₁₀ - dy₀₁)  dx₁₀ ⋅\n",
       "\n",
       "             dx₁₀⋅dy₁₀⋅dy₁₁ - dx₁₁⋅dy₁₀⋅dy₁₁                                  \n",
       "───────────────────────────────────────────────────────────────  ─────────────\n",
       "                                                                     2        \n",
       "dx₁₁⋅dy₁₀ + dx₁₀⋅dx₁₁⋅dy₀₁⋅dy₁₁ + dx₁₀⋅dx₁₁⋅dy₁₀⋅(-dx₁₀ - dy₀₁)  dx₁₀ ⋅dx₁₁⋅dy\n",
       "                                                                              \n",
       "             -dx₁₀⋅dx₁₁⋅dy₁₀ + dx₁₀⋅dx₁₁⋅dy₁₁                                 \n",
       "───────────────────────────────────────────────────────────────               \n",
       "                                                                              \n",
       "dx₁₁⋅dy₁₀ + dx₁₀⋅dx₁₁⋅dy₀₁⋅dy₁₁ + dx₁₀⋅dx₁₁⋅dy₁₀⋅(-dx₁₀ - dy₀₁)               \n",
       "                                                                              \n",
       "                  -dx₁₀⋅dy₁₁ + dx₁₁⋅dy₁₀                                      \n",
       "───────────────────────────────────────────────────────────────  ─────────────\n",
       "                                                                     2        \n",
       "dx₁₁⋅dy₁₀ + dx₁₀⋅dx₁₁⋅dy₀₁⋅dy₁₁ + dx₁₀⋅dx₁₁⋅dy₁₀⋅(-dx₁₀ - dy₀₁)  dx₁₀ ⋅dx₁₁⋅dy\n",
       "\n",
       "              -dx₁₀⋅dy₀₁⋅dy₁₀                           ⎤\n",
       "────────────────────────────────────────────────────────⎥\n",
       "                                                        ⎥\n",
       "₁₀ + dx₁₀⋅dx₁₁⋅dy₀₁⋅dy₁₁ + dx₁₀⋅dx₁₁⋅dy₁₀⋅(-dx₁₀ - dy₀₁)⎥\n",
       "                                                        ⎥\n",
       "                                                        ⎥\n",
       "                     0                                  ⎥\n",
       "                                                        ⎥\n",
       "                                                        ⎥\n",
       "                                                        ⎥\n",
       "                 dx₁₀⋅dy₀₁                              ⎥\n",
       "────────────────────────────────────────────────────────⎥\n",
       "                                                        ⎥\n",
       "₁₀ + dx₁₀⋅dx₁₁⋅dy₀₁⋅dy₁₁ + dx₁₀⋅dx₁₁⋅dy₁₀⋅(-dx₁₀ - dy₀₁)⎦"
      ]
     },
     "execution_count": 15,
     "metadata": {},
     "output_type": "execute_result"
    }
   ],
   "source": [
    "V1 = Vandermonde.inverse_ADJ()\n",
    "V1"
   ]
  },
  {
   "cell_type": "code",
   "execution_count": 16,
   "metadata": {
    "collapsed": false
   },
   "outputs": [
    {
     "data": {
      "text/latex": [
       "$$\\left[\\begin{matrix}1 & 0 & 0\\\\0 & 1 & 0\\\\0 & 0 & 1\\end{matrix}\\right]$$"
      ],
      "text/plain": [
       "⎡1  0  0⎤\n",
       "⎢       ⎥\n",
       "⎢0  1  0⎥\n",
       "⎢       ⎥\n",
       "⎣0  0  1⎦"
      ]
     },
     "execution_count": 16,
     "metadata": {},
     "output_type": "execute_result"
    }
   ],
   "source": [
    "simplify(Vandermonde*V1)"
   ]
  },
  {
   "cell_type": "code",
   "execution_count": 17,
   "metadata": {
    "collapsed": false
   },
   "outputs": [
    {
     "data": {
      "text/latex": [
       "$$\\left[\\begin{matrix}\\frac{dx_{11} dy_{01} dy_{11}}{dx_{10}^{2} dx_{11} dy_{10} + dx_{10} dx_{11} dy_{01} dy_{11} + dx_{10} dx_{11} dy_{10} \\left(- dx_{10} - dy_{01}\\right)} & \\frac{dx_{10} dy_{10} dy_{11} - dx_{11} dy_{10} dy_{11}}{dx_{10}^{2} dx_{11} dy_{10} + dx_{10} dx_{11} dy_{01} dy_{11} + dx_{10} dx_{11} dy_{10} \\left(- dx_{10} - dy_{01}\\right)} & - \\frac{dx_{10} dy_{01} dy_{10}}{dx_{10}^{2} dx_{11} dy_{10} + dx_{10} dx_{11} dy_{01} dy_{11} + dx_{10} dx_{11} dy_{10} \\left(- dx_{10} - dy_{01}\\right)}\\\\0 & \\frac{- dx_{10} dx_{11} dy_{10} + dx_{10} dx_{11} dy_{11}}{dx_{10}^{2} dx_{11} dy_{10} + dx_{10} dx_{11} dy_{01} dy_{11} + dx_{10} dx_{11} dy_{10} \\left(- dx_{10} - dy_{01}\\right)} & 0\\\\- \\frac{dx_{11} dy_{01}}{dx_{10}^{2} dx_{11} dy_{10} + dx_{10} dx_{11} dy_{01} dy_{11} + dx_{10} dx_{11} dy_{10} \\left(- dx_{10} - dy_{01}\\right)} & \\frac{- dx_{10} dy_{11} + dx_{11} dy_{10}}{dx_{10}^{2} dx_{11} dy_{10} + dx_{10} dx_{11} dy_{01} dy_{11} + dx_{10} dx_{11} dy_{10} \\left(- dx_{10} - dy_{01}\\right)} & \\frac{dx_{10} dy_{01}}{dx_{10}^{2} dx_{11} dy_{10} + dx_{10} dx_{11} dy_{01} dy_{11} + dx_{10} dx_{11} dy_{10} \\left(- dx_{10} - dy_{01}\\right)}\\end{matrix}\\right]$$"
      ],
      "text/plain": [
       "⎡                            dx₁₁⋅dy₀₁⋅dy₁₁                                   \n",
       "⎢─────────────────────────────────────────────────────────────────────  ──────\n",
       "⎢    2                                                                      2 \n",
       "⎢dx₁₀ ⋅dx₁₁⋅dy₁₀ + dx₁₀⋅dx₁₁⋅dy₀₁⋅dy₁₁ + dx₁₀⋅dx₁₁⋅dy₁₀⋅(-dx₁₀ - dy₀₁)  dx₁₀ ⋅\n",
       "⎢                                                                             \n",
       "⎢                                                                             \n",
       "⎢                                  0                                    ──────\n",
       "⎢                                                                           2 \n",
       "⎢                                                                       dx₁₀ ⋅\n",
       "⎢                                                                             \n",
       "⎢                             -dx₁₁⋅dy₀₁                                      \n",
       "⎢─────────────────────────────────────────────────────────────────────  ──────\n",
       "⎢    2                                                                      2 \n",
       "⎣dx₁₀ ⋅dx₁₁⋅dy₁₀ + dx₁₀⋅dx₁₁⋅dy₀₁⋅dy₁₁ + dx₁₀⋅dx₁₁⋅dy₁₀⋅(-dx₁₀ - dy₀₁)  dx₁₀ ⋅\n",
       "\n",
       "             dx₁₀⋅dy₁₀⋅dy₁₁ - dx₁₁⋅dy₁₀⋅dy₁₁                                  \n",
       "───────────────────────────────────────────────────────────────  ─────────────\n",
       "                                                                     2        \n",
       "dx₁₁⋅dy₁₀ + dx₁₀⋅dx₁₁⋅dy₀₁⋅dy₁₁ + dx₁₀⋅dx₁₁⋅dy₁₀⋅(-dx₁₀ - dy₀₁)  dx₁₀ ⋅dx₁₁⋅dy\n",
       "                                                                              \n",
       "             -dx₁₀⋅dx₁₁⋅dy₁₀ + dx₁₀⋅dx₁₁⋅dy₁₁                                 \n",
       "───────────────────────────────────────────────────────────────               \n",
       "                                                                              \n",
       "dx₁₁⋅dy₁₀ + dx₁₀⋅dx₁₁⋅dy₀₁⋅dy₁₁ + dx₁₀⋅dx₁₁⋅dy₁₀⋅(-dx₁₀ - dy₀₁)               \n",
       "                                                                              \n",
       "                  -dx₁₀⋅dy₁₁ + dx₁₁⋅dy₁₀                                      \n",
       "───────────────────────────────────────────────────────────────  ─────────────\n",
       "                                                                     2        \n",
       "dx₁₁⋅dy₁₀ + dx₁₀⋅dx₁₁⋅dy₀₁⋅dy₁₁ + dx₁₀⋅dx₁₁⋅dy₁₀⋅(-dx₁₀ - dy₀₁)  dx₁₀ ⋅dx₁₁⋅dy\n",
       "\n",
       "              -dx₁₀⋅dy₀₁⋅dy₁₀                           ⎤\n",
       "────────────────────────────────────────────────────────⎥\n",
       "                                                        ⎥\n",
       "₁₀ + dx₁₀⋅dx₁₁⋅dy₀₁⋅dy₁₁ + dx₁₀⋅dx₁₁⋅dy₁₀⋅(-dx₁₀ - dy₀₁)⎥\n",
       "                                                        ⎥\n",
       "                                                        ⎥\n",
       "                     0                                  ⎥\n",
       "                                                        ⎥\n",
       "                                                        ⎥\n",
       "                                                        ⎥\n",
       "                 dx₁₀⋅dy₀₁                              ⎥\n",
       "────────────────────────────────────────────────────────⎥\n",
       "                                                        ⎥\n",
       "₁₀ + dx₁₀⋅dx₁₁⋅dy₀₁⋅dy₁₁ + dx₁₀⋅dx₁₁⋅dy₁₀⋅(-dx₁₀ - dy₀₁)⎦"
      ]
     },
     "execution_count": 17,
     "metadata": {},
     "output_type": "execute_result"
    }
   ],
   "source": [
    "V1 = Vandermonde.inverse_ADJ()\n",
    "V1"
   ]
  },
  {
   "cell_type": "code",
   "execution_count": 18,
   "metadata": {
    "collapsed": false
   },
   "outputs": [
    {
     "name": "stdout",
     "output_type": "stream",
     "text": [
      "coeff[0][0]= dx11*dy01*dy11/(pow(dx10, 2)*dx11*dy10 + dx10*dx11*dy01*dy11 + dx10*dx11*dy10*(-dx10 - dy01)); \n",
      "coeff[0][1]= (dx10*dy10*dy11 - dx11*dy10*dy11)/(pow(dx10, 2)*dx11*dy10 + dx10*dx11*dy01*dy11 + dx10*dx11*dy10*(-dx10 - dy01)); \n",
      "coeff[0][2]= -dx10*dy01*dy10/(pow(dx10, 2)*dx11*dy10 + dx10*dx11*dy01*dy11 + dx10*dx11*dy10*(-dx10 - dy01)); \n",
      "coeff[1][0]= 0; \n",
      "coeff[1][1]= (-dx10*dx11*dy10 + dx10*dx11*dy11)/(pow(dx10, 2)*dx11*dy10 + dx10*dx11*dy01*dy11 + dx10*dx11*dy10*(-dx10 - dy01)); \n",
      "coeff[1][2]= 0; \n",
      "coeff[2][0]= -dx11*dy01/(pow(dx10, 2)*dx11*dy10 + dx10*dx11*dy01*dy11 + dx10*dx11*dy10*(-dx10 - dy01)); \n",
      "coeff[2][1]= (-dx10*dy11 + dx11*dy10)/(pow(dx10, 2)*dx11*dy10 + dx10*dx11*dy01*dy11 + dx10*dx11*dy10*(-dx10 - dy01)); \n",
      "coeff[2][2]= dx10*dy01/(pow(dx10, 2)*dx11*dy10 + dx10*dx11*dy01*dy11 + dx10*dx11*dy10*(-dx10 - dy01)); \n"
     ]
    }
   ],
   "source": [
    "for i in range(0,3):\n",
    "    for j in range(0,3):\n",
    "        print \"coeff[%i][%i]= %s; \"%(i,j,printing.ccode(V1[i,j]))"
   ]
  },
  {
   "cell_type": "code",
   "execution_count": 21,
   "metadata": {
    "collapsed": false
   },
   "outputs": [
    {
     "name": "stdout",
     "output_type": "stream",
     "text": [
      "[[  2.63160000e+00  -1.61386000e+04  -4.24704000e+04]\n",
      " [  0.00000000e+00   7.38077000e+03   0.00000000e+00]\n",
      " [  2.63160000e+00  -9.11106000e+03  -2.39767000e+04]]\n",
      "[[ -4.92658209e-01  -2.22601163e-08   8.72655169e-01]\n",
      " [  0.00000000e+00   1.35487219e-04  -0.00000000e+00]\n",
      " [ -5.40724679e-05  -5.14846596e-05   5.40724679e-05]]\n"
     ]
    },
    {
     "data": {
      "text/latex": [
       "$$\\left[\\begin{matrix}-0.492658208547511 & -2.22601161923755 \\cdot 10^{-8} & 0.872655168571831\\\\0 & 0.000135487218813213 & 0\\\\-5.40724679215084 \\cdot 10^{-5} & -5.14846596245537 \\cdot 10^{-5} & 5.40724679215084 \\cdot 10^{-5}\\end{matrix}\\right]$$"
      ],
      "text/plain": [
       "⎡ -0.492658208547511   -2.22601161923755e-8   0.872655168571831 ⎤\n",
       "⎢                                                               ⎥\n",
       "⎢         0            0.000135487218813213           0         ⎥\n",
       "⎢                                                               ⎥\n",
       "⎣-5.40724679215084e-5  -5.14846596245537e-5  5.40724679215084e-5⎦"
      ]
     },
     "execution_count": 21,
     "metadata": {},
     "output_type": "execute_result"
    }
   ],
   "source": [
    "f00  = 10\n",
    "f10  = 12\n",
    "f11  = -2\n",
    "f01  = -1\n",
    "A= sp.zeros((3,3))\n",
    "\n",
    "I= sp.zeros((3,3))\n",
    "A = sp.array([[2.6316 ,  -16138.6  , -42470.4],\n",
    "[0 ,  7380.77  , 0],\n",
    "[2.6316 ,  -9111.06  , -23976.7]\n",
    "])\n",
    "\n",
    "I[0][0] = 1\n",
    "I[1][1] = 1\n",
    "I[2][2] = 1\n",
    "\n",
    "\n",
    "print A\n",
    "\n",
    "print sp.linalg.inv(A)\n",
    "AO = sp.copy(A)\n",
    "Matrix(A).inverse_ADJ()"
   ]
  },
  {
   "cell_type": "code",
   "execution_count": 20,
   "metadata": {
    "collapsed": false
   },
   "outputs": [
    {
     "name": "stdout",
     "output_type": "stream",
     "text": [
      "dx11*dy01*dy11/(pow(dx10, 2)*dx11*dy10 + dx10*dx11*dy01*dy11 + dx10*dx11*dy10*(-dx10 - dy01)); \n",
      "(dx10*dy10*dy11 - dx11*dy10*dy11)/(pow(dx10, 2)*dx11*dy10 + dx10*dx11*dy01*dy11 + dx10*dx11*dy10*(-dx10 - dy01)); \n",
      "-dx10*dy01*dy10/(pow(dx10, 2)*dx11*dy10 + dx10*dx11*dy01*dy11 + dx10*dx11*dy10*(-dx10 - dy01)); \n",
      "0; \n",
      "(-dx10*dx11*dy10 + dx10*dx11*dy11)/(pow(dx10, 2)*dx11*dy10 + dx10*dx11*dy01*dy11 + dx10*dx11*dy10*(-dx10 - dy01)); \n",
      "0; \n",
      "-dx11*dy01/(pow(dx10, 2)*dx11*dy10 + dx10*dx11*dy01*dy11 + dx10*dx11*dy10*(-dx10 - dy01)); \n",
      "(-dx10*dy11 + dx11*dy10)/(pow(dx10, 2)*dx11*dy10 + dx10*dx11*dy01*dy11 + dx10*dx11*dy10*(-dx10 - dy01)); \n",
      "dx10*dy01/(pow(dx10, 2)*dx11*dy10 + dx10*dx11*dy01*dy11 + dx10*dx11*dy10*(-dx10 - dy01)); \n"
     ]
    }
   ],
   "source": [
    "V1 = Vandermonde.inverse_ADJ()\n",
    "s = []\n",
    "for i in range(0,3):\n",
    "    for j in range(0,3):\n",
    "        s.append(\"%s; \"%(printing.ccode(V1[i,j])))\n",
    "\n",
    "        \n",
    "ndx10 = A[0][0]\n",
    "ndy10 = A[0][1] \n",
    "\n",
    "ndx01 = A[1][0] \n",
    "ndy01 = A[1][1]\n",
    "\n",
    "ndx11= A[2][0]\n",
    "ndy11= A[2][1]\n",
    "for ss in s:\n",
    "    ss.replace('dx10',str(ndx10))\n",
    "    ss.replace('dx01',str(ndx01))\n",
    "    ss.replace('dx11',str(ndx11))\n",
    "    ss.replace('dy10',str(ndy10))\n",
    "    ss.replace('dy01',str(ndy01))\n",
    "    ss.replace('dy11',str(ndy11))\n",
    "    print ss\n",
    "    \n"
   ]
  },
  {
   "cell_type": "code",
   "execution_count": 91,
   "metadata": {
    "collapsed": false
   },
   "outputs": [
    {
     "data": {
      "text/plain": [
       "['(-dx01*dy01*dy11 + dx11*dy01*dy11)/(dx11*dy11*(-dx01*dy10 + dx10*dy01) + dx11*(dx01*dy01*dy10 + pow(dx10, 2)*dy10) + dy11*(dx01*dx10*dy10 + dx01*pow(dy01, 2)) - (-dx10 - dy01)*(-dx01*dy01*dy11 - dx10*dx11*dy10)); ',\n",
       " '(dx10*dy10*dy11 - dx11*dy10*dy11)/(dx11*dy11*(-dx01*dy10 + dx10*dy01) + dx11*(dx01*dy01*dy10 + pow(dx10, 2)*dy10) + dy11*(dx01*dx10*dy10 + dx01*pow(dy01, 2)) - (-dx10 - dy01)*(-dx01*dy01*dy11 - dx10*dx11*dy10)); ',\n",
       " '(dx01*dy01*dy10 - dx10*dy01*dy10)/(dx11*dy11*(-dx01*dy10 + dx10*dy01) + dx11*(dx01*dy01*dy10 + pow(dx10, 2)*dy10) + dy11*(dx01*dx10*dy10 + dx01*pow(dy01, 2)) - (-dx10 - dy01)*(-dx01*dy01*dy11 - dx10*dx11*dy10)); ',\n",
       " '(dx01*dx11*dy01 - dx01*dx11*dy11)/(dx11*dy11*(-dx01*dy10 + dx10*dy01) + dx11*(dx01*dy01*dy10 + pow(dx10, 2)*dy10) + dy11*(dx01*dx10*dy10 + dx01*pow(dy01, 2)) - (-dx10 - dy01)*(-dx01*dy01*dy11 - dx10*dx11*dy10)); ',\n",
       " '(-dx10*dx11*dy10 + dx10*dx11*dy11)/(dx11*dy11*(-dx01*dy10 + dx10*dy01) + dx11*(dx01*dy01*dy10 + pow(dx10, 2)*dy10) + dy11*(dx01*dx10*dy10 + dx01*pow(dy01, 2)) - (-dx10 - dy01)*(-dx01*dy01*dy11 - dx10*dx11*dy10)); ',\n",
       " '(-dx01*dx10*dy01 + dx01*dx10*dy10)/(dx11*dy11*(-dx01*dy10 + dx10*dy01) + dx11*(dx01*dy01*dy10 + pow(dx10, 2)*dy10) + dy11*(dx01*dx10*dy10 + dx01*pow(dy01, 2)) - (-dx10 - dy01)*(-dx01*dy01*dy11 - dx10*dx11*dy10)); ',\n",
       " '(dx01*dy11 - dx11*dy01)/(dx11*dy11*(-dx01*dy10 + dx10*dy01) + dx11*(dx01*dy01*dy10 + pow(dx10, 2)*dy10) + dy11*(dx01*dx10*dy10 + dx01*pow(dy01, 2)) - (-dx10 - dy01)*(-dx01*dy01*dy11 - dx10*dx11*dy10)); ',\n",
       " '(-dx10*dy11 + dx11*dy10)/(dx11*dy11*(-dx01*dy10 + dx10*dy01) + dx11*(dx01*dy01*dy10 + pow(dx10, 2)*dy10) + dy11*(dx01*dx10*dy10 + dx01*pow(dy01, 2)) - (-dx10 - dy01)*(-dx01*dy01*dy11 - dx10*dx11*dy10)); ',\n",
       " '(-dx01*dy10 + dx10*dy01)/(dx11*dy11*(-dx01*dy10 + dx10*dy01) + dx11*(dx01*dy01*dy10 + pow(dx10, 2)*dy10) + dy11*(dx01*dx10*dy10 + dx01*pow(dy01, 2)) - (-dx10 - dy01)*(-dx01*dy01*dy11 - dx10*dx11*dy10)); ']"
      ]
     },
     "execution_count": 91,
     "metadata": {},
     "output_type": "execute_result"
    }
   ],
   "source": [
    "s"
   ]
  },
  {
   "cell_type": "code",
   "execution_count": 1,
   "metadata": {
    "collapsed": false
   },
   "outputs": [
    {
     "ename": "NameError",
     "evalue": "name 'sp' is not defined",
     "output_type": "error",
     "traceback": [
      "\u001b[1;31m---------------------------------------------------------------------------\u001b[0m",
      "\u001b[1;31mNameError\u001b[0m                                 Traceback (most recent call last)",
      "\u001b[1;32m<ipython-input-1-1d472aecf66a>\u001b[0m in \u001b[0;36m<module>\u001b[1;34m()\u001b[0m\n\u001b[1;32m----> 1\u001b[1;33m LUT_inverse = sp.array([[-0.49959 ,  0  , 0.8596],\n\u001b[0m\u001b[0;32m      2\u001b[0m               \u001b[1;33m[\u001b[0m\u001b[1;36m0\u001b[0m \u001b[1;33m,\u001b[0m  \u001b[1;36m0.000104827\u001b[0m  \u001b[1;33m,\u001b[0m \u001b[1;33m-\u001b[0m\u001b[1;36m0\u001b[0m\u001b[1;33m]\u001b[0m\u001b[1;33m,\u001b[0m\u001b[1;33m\u001b[0m\u001b[0m\n\u001b[0;32m      3\u001b[0m               [-4.03e-05 ,  -3.77388e-05  , 4.03e-05]])\n\u001b[0;32m      4\u001b[0m \u001b[1;32mprint\u001b[0m \u001b[1;34m\"Identity test\"\u001b[0m\u001b[1;33m\u001b[0m\u001b[0m\n\u001b[0;32m      5\u001b[0m \u001b[0mtest\u001b[0m \u001b[1;33m=\u001b[0m\u001b[0msp\u001b[0m\u001b[1;33m.\u001b[0m\u001b[0mdot\u001b[0m\u001b[1;33m(\u001b[0m\u001b[0mLUT_inverse\u001b[0m\u001b[1;33m,\u001b[0m\u001b[0mAO\u001b[0m\u001b[1;33m)\u001b[0m\u001b[1;33m\u001b[0m\u001b[0m\n",
      "\u001b[1;31mNameError\u001b[0m: name 'sp' is not defined"
     ]
    }
   ],
   "source": [
    "LUT_inverse = sp.array([[-0.49959 ,  0  , 0.8596],\n",
    "              [0 ,  0.000104827  , -0],\n",
    "              [-4.03e-05 ,  -3.77388e-05  , 4.03e-05]])\n",
    "print \"Identity test\"\n",
    "test =sp.dot(LUT_inverse,AO)\n",
    "plt.imshow(test)\n",
    "test\n"
   ]
  },
  {
   "cell_type": "code",
   "execution_count": 26,
   "metadata": {
    "collapsed": false
   },
   "outputs": [
    {
     "data": {
      "text/plain": [
       "array([[1.00000000000000, 0, 0],\n",
       "       [0, 1.00000000000000, 0],\n",
       "       [0, 5.55111512312578e-17, 1.00000000000000]], dtype=object)"
      ]
     },
     "execution_count": 26,
     "metadata": {},
     "output_type": "execute_result"
    }
   ],
   "source": [
    "sp.dot(sp.array(Matrix(A).inverse_ADJ()),AO)"
   ]
  },
  {
   "cell_type": "code",
   "execution_count": null,
   "metadata": {
    "collapsed": true
   },
   "outputs": [],
   "source": []
  }
 ],
 "metadata": {
  "kernelspec": {
   "display_name": "Python 2",
   "language": "python",
   "name": "python2"
  },
  "language_info": {
   "codemirror_mode": {
    "name": "ipython",
    "version": 2
   },
   "file_extension": ".py",
   "mimetype": "text/x-python",
   "name": "python",
   "nbconvert_exporter": "python",
   "pygments_lexer": "ipython2",
   "version": "2.7.12"
  }
 },
 "nbformat": 4,
 "nbformat_minor": 0
}
